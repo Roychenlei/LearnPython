{
 "cells": [
  {
   "cell_type": "code",
   "execution_count": null,
   "metadata": {},
   "outputs": [],
   "source": [
    "# create kibana for 5601\n",
    " ubuntu@datascience2.dev.zippia.com:/mnt/zippia-dev/services$ cat docker-compose.yml \n",
    " ubuntu@datascience2.dev.zippia.com:/mnt/zippia-dev/services$ docker-compose start  kibana_joblisting"
   ]
  },
  {
   "cell_type": "code",
   "execution_count": null,
   "metadata": {},
   "outputs": [],
   "source": [
    "#delete kafak topic\n",
    "docker run -it --rm confluentinc/cp-kafka /bin/bash\n",
    "export KFK=kafka1.dev.zippia.com:9082\n",
    "export ZK=kafka1.dev.zippia.com:2181\n",
    "kafka-topics --zookeeper $ZK --list | grep -E '^[^_]' | xargs -n 1 kafka-topics --zookeeper $ZK --delete --topic\n",
    "\n",
    "#delete es1.joblisting\n",
    "DELETE /joblistings"
   ]
  },
  {
   "cell_type": "code",
   "execution_count": null,
   "metadata": {},
   "outputs": [],
   "source": [
    "   wc resume_1m.csv -l\n",
    "   pwd\n",
    "   ls\n",
    "   head -n 302574 resume_1m.csv  | tail -n 1\n",
    "   wc -l resume_1m.csv \n",
    "   head -n 1  resume_1m.csv > rest_resume_data.csv \n",
    "   cat rest_resume_data.csv \n",
    "   tail -n 697428 resume_1m.csv >> rest_resume_data.csv \n",
    "   wc -l rest_resume_data.csv \n",
    "   pwd\n",
    "   ls\n",
    "   head -n 2 rest_resume_data.csv \n",
    "   vim rest_resume_data.csv \n",
    "# combine 4 zip file into 1\n",
    "   cat resume_4m.zip{a,b,c,d} > resume_4million.zip"
   ]
  },
  {
   "cell_type": "code",
   "execution_count": null,
   "metadata": {},
   "outputs": [],
   "source": [
    " sudo python2 -m SimpleHTTPServer 8080\n",
    " wget -c datascience2.dev.zippia.com:8080/*.tar.gz"
   ]
  },
  {
   "cell_type": "code",
   "execution_count": null,
   "metadata": {},
   "outputs": [],
   "source": [
    "#download s3\n",
    "/usr/local/bin/aws s3 cp  s3://backup2.zippia.com/job-feeds.misc.int.zippia.com/2017-12-03-03-00-01/jobs2careers-aggregated.xml.bz2 .\n",
    "#dezip bz2\n",
    "bzip2 -d jobs2careers-aggregated.xml.bz2\n",
    "# grep\n",
    "grep '<referencenumber>.*</referencenumber>' jobs2careers-aggregated_12_03_03.xml > 12_03_03.txt"
   ]
  },
  {
   "cell_type": "code",
   "execution_count": null,
   "metadata": {},
   "outputs": [],
   "source": [
    "awk '{for(i=1;i<=NF;i++){if($i==\"PositionOpening\"){++c} } }END{print \"total: \"c}' hello.text"
   ]
  }
 ],
 "metadata": {
  "kernelspec": {
   "display_name": "Python 3",
   "language": "python",
   "name": "python3"
  },
  "language_info": {
   "codemirror_mode": {
    "name": "ipython",
    "version": 2
   },
   "file_extension": ".py",
   "mimetype": "text/x-python",
   "name": "python",
   "nbconvert_exporter": "python",
   "pygments_lexer": "ipython2",
   "version": "2.7.12"
  }
 },
 "nbformat": 4,
 "nbformat_minor": 2
}
