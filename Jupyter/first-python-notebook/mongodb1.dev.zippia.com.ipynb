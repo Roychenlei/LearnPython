{
 "cells": [
  {
   "cell_type": "code",
   "execution_count": 41,
   "metadata": {
    "scrolled": false
   },
   "outputs": [
    {
     "name": "stdout",
     "output_type": "stream",
     "text": [
      "[{u'_id': u'Irvine', u'avgAmount': 126450.0}, {u'_id': u'San Jose', u'avgAmount': 140923.07692307694}, {u'_id': u'Vista', u'avgAmount': 124400.0}, {u'_id': u'Palo Alto', u'avgAmount': 129629.83050847458}, {u'_id': u'Los Angeles', u'avgAmount': 126125.0}, {u'_id': u'Alameda', u'avgAmount': 98500.0}, {u'_id': u'San Bruno', u'avgAmount': 126802.86262626263}, {u'_id': u'Sunnyvale', u'avgAmount': 132593.40298507462}, {u'_id': u'Mountain View', u'avgAmount': 130807.7002128738}, {u'_id': u'San Francisco', u'avgAmount': 135608.68333333335}, {u'_id': u'', u'avgAmount': 131613.7435897436}]\n",
      "              _id      avgAmount\n",
      "2           Vista  124400.000000\n",
      "7       Sunnyvale  132593.402985\n",
      "1        San Jose  140923.076923\n",
      "9   San Francisco  135608.683333\n",
      "6       San Bruno  126802.862626\n",
      "3       Palo Alto  129629.830508\n",
      "8   Mountain View  130807.700213\n",
      "4     Los Angeles  126125.000000\n",
      "0          Irvine  126450.000000\n",
      "5         Alameda   98500.000000\n",
      "10                 131613.743590\n"
     ]
    }
   ],
   "source": [
    "import os\n",
    "import pymongo\n",
    "from pymongo import MongoClient\n",
    "\n",
    "\n",
    "MONGO_HOST = os.getenv('MONGO_HOST', 'mongodb1.dev.zippia.com')\n",
    "MONGO_DB_NAME = os.getenv('MONGO_DB_NAME', 'zippia')\n",
    "SALARY = os.getenv('SALARY', 'salary_new')\n",
    "SALARY_NEW_backup = os.getenv('SALARY_BACKUP', 'salary_new_backup')\n",
    "SALARY_2017 = os.getenv('SALARY_BACKUP', 'salary_2017_update') \n",
    "\n",
    "client = MongoClient(host=MONGO_HOST)\n",
    "salary = client[MONGO_DB_NAME][SALARY]\n",
    "salary_2017 = client[MONGO_DB_NAME][SALARY_2017]\n",
    "\n",
    "# pipeline = [{\"$match\": {}},\n",
    "#             {\"$out\": SALARY_NEW_backup},\n",
    "#             ]\n",
    "# salary.aggregate(pipeline)\n",
    "\n",
    "import json\n",
    "a= list(salary_2017.aggregate([{'$match':{'cleanCompany':'Google Inc.','workLoc1State':'CA'}},\n",
    "                                {'$group':{'_id':'$workLoc1City','avgAmount':{'$avg':'$salary'}}},\n",
    "                               {'$project':{'titleDisplay':1,'avgAmount':1,'workLoc1City':1}}\n",
    "                                  ]))\n",
    "print a\n",
    "with open('City_by_Google.json', 'w') as w:\n",
    "    json.dump(a,w)\n",
    "import pandas as pd\n",
    "df = pd.read_json('City_by_Google.json')\n",
    "print df.sort_values('_id',ascending=False)"
   ]
  },
  {
   "cell_type": "code",
   "execution_count": 59,
   "metadata": {
    "scrolled": false
   },
   "outputs": [
    {
     "name": "stdout",
     "output_type": "stream",
     "text": [
      "                                       _id      avgAmount\n",
      "4              Software Engineer,Los Gatos  175000.000000\n",
      "27   Software Engineer,South San Francisco  169861.000000\n",
      "102        Software Engineer,Monterey Park  157901.250000\n",
      "101           Software Engineer,Menlo Park  156954.382919\n",
      "79               Software Engineer,Arcadia  152250.000000\n",
      "89           Software Engineer,Santa Clara  144647.492512\n",
      "80             Software Engineer,Cupertino  141942.925926\n",
      "86              Software Engineer,Brisbane  137807.000000\n",
      "84             Software Engineer,Los Altos  136280.555556\n",
      "15            Software Engineer,Santa Cruz  135000.000000\n",
      "42        Software Engineer,West Hollywood  134550.000000\n",
      "114             Software Engineer,San Jose  134049.722839\n",
      "113            Software Engineer,Palo Alto  132813.565973\n",
      "83         Software Engineer,Mountain View  131978.799455\n",
      "47         Software Engineer,Thousand Oaks  131128.056667\n",
      "9         Software Engineer,East Palo Alto  130000.000000\n",
      "112             Software Engineer,Temecula  130000.000000\n",
      "98         Software Engineer,San Francisco  129870.680547\n",
      "56             Software Engineer,San Bruno  129249.518519\n",
      "110            Software Engineer,Sunnyvale  126420.440805\n",
      "30         Software Engineer,Scotts Valley  125320.000000\n",
      "105            Software Engineer,San Mateo  123857.306842\n",
      "96            Software Engineer,Burlingame  123707.142857\n",
      "111                     Software Engineer,  122736.629077\n",
      "16              Software Engineer,El Monte  120000.000000\n",
      "36           Software Engineer,Lake Forest  119806.373333\n",
      "57               Software Engineer,Belmont  118846.000000\n",
      "5          Software Engineer,Santa Clarita  118657.500000\n",
      "14              Software Engineer,Berkeley  117883.333333\n",
      "93          Software Engineer,Redwood City  117024.567031\n",
      "..                                     ...            ...\n",
      "73                Software Engineer,Novato   85064.000000\n",
      "107     Software Engineer,Westlake Village   85000.080000\n",
      "11             Software Engineer,Mira Loma   85000.000000\n",
      "0            Software Engineer,Diamond Bar   85000.000000\n",
      "70             Software Engineer,Oceanside   85000.000000\n",
      "24              Software Engineer,Rosemead   84890.960000\n",
      "52               Software Engineer,Ontario   84622.997500\n",
      "18               Software Engineer,Gardena   83666.666667\n",
      "95                 Software Engineer,Selma   83441.000000\n",
      "10        Software Engineer,Marina del Rey   80000.000000\n",
      "54              Software Engineer,Cerritos   79801.800000\n",
      "44       Software Engineer,El Dorado Hills   78207.600000\n",
      "85       Software Engineer,San Luis Obispo   77871.333333\n",
      "75              Software Engineer,Industry   77000.000000\n",
      "1            Software Engineer,Bakersfield   74916.000000\n",
      "64          Software Engineer,Agoura Hills   74907.000000\n",
      "66               Software Engineer,Atwater   74776.000000\n",
      "13      Software Engineer,Rancho Cucamonga   74740.666667\n",
      "88           Software Engineer,San Leandro   74547.000000\n",
      "25          Software Engineer,Palm Springs   74088.500000\n",
      "103              Software Engineer,Fontana   74005.666667\n",
      "109           Software Engineer,Costa Mesa   73974.428571\n",
      "3                   Software Engineer,Brea   73000.000000\n",
      "38             Software Engineer,Vacaville   72592.000000\n",
      "63             Software Engineer,Calabasas   72500.000000\n",
      "90                Software Engineer,Dublin   71290.500000\n",
      "99                Software Engineer,Auburn   70304.000000\n",
      "23       Software Engineer,Fountain Valley   69910.500000\n",
      "28               Software Engineer,Redding   63340.450000\n",
      "7                  Software Engineer,Chico   49525.000000\n",
      "\n",
      "[117 rows x 2 columns]\n"
     ]
    }
   ],
   "source": [
    "import json\n",
    "a= list(salary_2017.aggregate([{'$match':{'titleDisplay':'Software Engineer','workLoc1State':'CA'}},\n",
    "                                {'$group':{'_id':{'titleDisplay':'$titleDisplay','workLoc1City':'$workLoc1City'},'avgAmount':{'$avg':'$salary'}}},\n",
    "                               {'$project':{'titleDisplay':1,'avgAmount':1,'titleDisplay':1,'workLoc1City':1}}\n",
    " \n",
    "                              ]))\n",
    "for x in a:\n",
    "    x['_id'] = x['_id']['titleDisplay']+ ','+x['_id']['workLoc1City']\n",
    "\n",
    "\n",
    "with open('Title_by_Apple.json', 'w') as w:\n",
    "    json.dump(a,w)\n",
    "import pandas as pd\n",
    "df = pd.read_json('Title_by_Apple.json')\n",
    "print df.sort_values('avgAmount',ascending=False)"
   ]
  },
  {
   "cell_type": "code",
   "execution_count": 45,
   "metadata": {},
   "outputs": [
    {
     "name": "stdout",
     "output_type": "stream",
     "text": [
      "[{u'_id': u'Software Engineer', u'avgAmount': 128266.94581496877}]\n",
      "                 _id      avgAmount\n",
      "0  Software Engineer  128266.945815\n"
     ]
    }
   ],
   "source": [
    "import json\n",
    "a= list(salary_2017.aggregate([{'$match':{'titleDisplay':'Software Engineer','workLoc1State':'CA'}},\n",
    "                                {'$group':{'_id':'$titleDisplay','avgAmount':{'$avg':'$salary'}}},\n",
    "                               {'$project':{'workLoc1City':1,'avgAmount':1}}\n",
    "                                  ]))\n",
    "print a\n",
    "with open('City_by_Google.json', 'w') as w:\n",
    "    json.dump(a,w)\n",
    "import pandas as pd\n",
    "df = pd.read_json('City_by_Google.json')\n",
    "print df.sort_values('_id',ascending=False)"
   ]
  },
  {
   "cell_type": "code",
   "execution_count": null,
   "metadata": {},
   "outputs": [],
   "source": []
  }
 ],
 "metadata": {
  "kernelspec": {
   "display_name": "Python 2",
   "language": "python",
   "name": "python2"
  },
  "language_info": {
   "codemirror_mode": {
    "name": "ipython",
    "version": 2
   },
   "file_extension": ".py",
   "mimetype": "text/x-python",
   "name": "python",
   "nbconvert_exporter": "python",
   "pygments_lexer": "ipython2",
   "version": "2.7.12"
  }
 },
 "nbformat": 4,
 "nbformat_minor": 2
}
