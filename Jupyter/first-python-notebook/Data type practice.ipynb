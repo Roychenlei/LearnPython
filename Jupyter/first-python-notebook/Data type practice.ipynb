{
 "cells": [
  {
   "cell_type": "code",
   "execution_count": null,
   "metadata": {
    "collapsed": true
   },
   "outputs": [],
   "source": [
    "for i in range(6):\n",
    "    print (i**2)\n",
    "colors =['red','blue','white']\n",
    "for color in colors:\n",
    "    print (color)\n",
    "for color in reversed(colors):\n",
    "    print (color)\n",
    "for i, color in enumerate(colors):\n",
    "    print ('(',i, ',',color,')')\n",
    "string = 'hello world'\n",
    "# print(dir(string))\n",
    "t1 = list(string)\n",
    "t2 = string.split()\n",
    "print (t1)\n",
    "print (t2)"
   ]
  },
  {
   "cell_type": "code",
   "execution_count": null,
   "metadata": {
    "collapsed": true
   },
   "outputs": [],
   "source": [
    "t = ['hello', 'world']\n",
    "dlimiter = ''\n",
    "dlimiter2 = ' '\n",
    "s = dlimiter.join(t)\n",
    "s2 = dlimiter2.join(t)\n",
    "print(s)\n",
    "print (s2)"
   ]
  },
  {
   "cell_type": "code",
   "execution_count": null,
   "metadata": {},
   "outputs": [],
   "source": [
    "a = 'banana'\n",
    "b = 'banana'\n",
    "c = ['a','b']\n",
    "d = ['a','b']\n",
    "print (a is b)\n",
    "print (c is d)"
   ]
  },
  {
   "cell_type": "code",
   "execution_count": null,
   "metadata": {},
   "outputs": [],
   "source": [
    "s = 'abc'\n",
    "t = [0,1,2]\n",
    "a = zip(s,t)\n",
    "\n",
    "print (list(a))\n",
    "for i in a:\n",
    "    print(i)\n"
   ]
  },
  {
   "cell_type": "code",
   "execution_count": null,
   "metadata": {},
   "outputs": [],
   "source": [
    "d ={'a':0,'b':1,'c':2}\n",
    "t =d.items()\n",
    "print(t)\n",
    "print(d)"
   ]
  },
  {
   "cell_type": "code",
   "execution_count": null,
   "metadata": {},
   "outputs": [],
   "source": [
    "import random \n",
    "for i in range(10):\n",
    "    x = random.randint(5,100)\n",
    "    print(x)"
   ]
  },
  {
   "cell_type": "code",
   "execution_count": 11,
   "metadata": {},
   "outputs": [
    {
     "name": "stdout",
     "output_type": "stream",
     "text": [
      "['j']\n",
      "set(['j'])\n"
     ]
    }
   ],
   "source": [
    " x = ['a','b','c','j']\n",
    " y = ['c','d','e','a','b']\n",
    " print list(set(x).difference(set(y)))\n",
    " var = set(x)-set(y)\n",
    " print (var)"
   ]
  }
 ],
 "metadata": {
  "kernelspec": {
   "display_name": "Python 3",
   "language": "python",
   "name": "python3"
  },
  "language_info": {
   "codemirror_mode": {
    "name": "ipython",
    "version": 2
   },
   "file_extension": ".py",
   "mimetype": "text/x-python",
   "name": "python",
   "nbconvert_exporter": "python",
   "pygments_lexer": "ipython2",
   "version": "2.7.12"
  }
 },
 "nbformat": 4,
 "nbformat_minor": 2
}
