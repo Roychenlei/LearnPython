{
 "cells": [
  {
   "cell_type": "code",
   "execution_count": null,
   "metadata": {
    "collapsed": true
   },
   "outputs": [],
   "source": [
    "for i in range(6):\n",
    "    print (i**2)\n",
    "colors =['red','blue','white']\n",
    "for color in colors:\n",
    "    print (color)\n",
    "for color in reversed(colors):\n",
    "    print (color)\n",
    "for i, color in enumerate(colors):\n",
    "    print ('(',i, ',',color,')')\n",
    "string = 'hello world'\n",
    "# print(dir(string))\n",
    "t1 = list(string)\n",
    "t2 = string.split()\n",
    "print (t1)\n",
    "print (t2)"
   ]
  },
  {
   "cell_type": "code",
   "execution_count": null,
   "metadata": {
    "collapsed": true
   },
   "outputs": [],
   "source": [
    "t = ['hello', 'world']\n",
    "dlimiter = ''\n",
    "dlimiter2 = ' '\n",
    "s = dlimiter.join(t)\n",
    "s2 = dlimiter2.join(t)\n",
    "print(s)\n",
    "print (s2)"
   ]
  },
  {
   "cell_type": "code",
   "execution_count": null,
   "metadata": {
    "collapsed": true
   },
   "outputs": [],
   "source": [
    "a = 'banana'\n",
    "b = 'banana'\n",
    "c = ['a','b']\n",
    "d = ['a','b']\n",
    "a is b"
   ]
  }
 ],
 "metadata": {
  "kernelspec": {
   "display_name": "Python 3",
   "language": "python",
   "name": "python3"
  },
  "language_info": {
   "codemirror_mode": {
    "name": "ipython",
    "version": 3
   },
   "file_extension": ".py",
   "mimetype": "text/x-python",
   "name": "python",
   "nbconvert_exporter": "python",
   "pygments_lexer": "ipython3",
   "version": "3.6.0"
  }
 },
 "nbformat": 4,
 "nbformat_minor": 2
}
