{
 "cells": [
  {
   "cell_type": "code",
   "execution_count": 33,
   "metadata": {},
   "outputs": [],
   "source": [
    "import pymongo\n",
    "import os\n",
    "from pymongo import MongoClient\n",
    "client = MongoClient(host ='mongodb1.dev.zippia.com')\n",
    "# salary2 = client['zippia_FLC']['salary2']\n",
    "salary_2017 = client['zippia_2017_04_09']['salary_2017_04_09']\n",
    "MONGO_DB_NAME = os.getenv('MONGO_DB_NAME', 'zippia')\n",
    "SALARY = os.getenv('SALARY', 'salary_new')\n",
    "SALARY_NEW_backup = os.getenv('SALARY_BACKUP', 'salary_new_backup')\n",
    "SALARY_2017 = os.getenv('SALARY_BACKUP', 'salary_2017_update')\n",
    "# salary_2015_H2A = client['zippia']['salary_2015_H2A']\n",
    "# salary_2008_H1B = client['zippia']['salary_2008_H1B']\n",
    "# salary_2009_LCA = client['zippia']['salary_2009_LCA']\n",
    "print SALARY.find({'caseId' :'I-200-17187-084979'})"
   ]
  },
  {
   "cell_type": "code",
   "execution_count": 3,
   "metadata": {},
   "outputs": [
    {
     "data": {
      "text/plain": [
       "<pymongo.command_cursor.CommandCursor at 0x7f6524c8bc50>"
      ]
     },
     "execution_count": 3,
     "metadata": {},
     "output_type": "execute_result"
    }
   ],
   "source": [
    "import pymongo\n",
    "import os\n",
    "from pymongo import MongoClient\n",
    "client = MongoClient(host ='datascience1.dev.zippia.com')\n",
    "wikipedia_parsed_test_2 = client['zippia_187_2']['wikipedia_parsed_test_2']\n",
    "WIKIPEDIA_PARSED_TEST_3= os.getenv('WIKIPEDIA_PARSED_BAK', 'wikipedia_parsed_test_3')\n",
    "\n",
    "pipeline = [{\"$match\": {}},\n",
    "                {\"$out\": WIKIPEDIA_PARSED_TEST_3},\n",
    "                ]\n",
    "wikipedia_parsed_test_2.aggregate(pipeline)"
   ]
  },
  {
   "cell_type": "code",
   "execution_count": null,
   "metadata": {},
   "outputs": [],
   "source": [
    "import pymongo\n",
    "import os\n",
    "from pymongo import MongoClient\n",
    "client = MongoClient(host ='datascience1.dev.zippia.com')\n",
    "wikipedia_parsed_test_2 = client['zippia_187_2']['wikipedia_parsed_test_2']\n",
    "WIKIPEDIA_PARSED_TEST_3= os.getenv('WIKIPEDIA_PARSED_BAK', 'wikipedia_parsed_test_3')"
   ]
  },
  {
   "cell_type": "code",
   "execution_count": 15,
   "metadata": {},
   "outputs": [
    {
     "name": "stdout",
     "output_type": "stream",
     "text": [
      "56133\n",
      "71298\n",
      "170404\n",
      "57048\n",
      "47875\n",
      "53468\n",
      "55359\n",
      "56028\n",
      "51775\n",
      "50865\n",
      "49107\n",
      "46378\n",
      "35848\n",
      "58153\n",
      "179365\n",
      "52518\n",
      "45664\n",
      "46287\n",
      "40189\n",
      "43236\n",
      "40919\n",
      "786001\n"
     ]
    }
   ],
   "source": [
    "print salary.count({'decisiondate':{'$gt':1451606400000,'$lt':1454198400000}})\n",
    "print salary.count({'decisiondate':{'$gt':1454198400000,'$lt':1456704000000}})\n",
    "print salary.count({'decisiondate':{'$gt':1456704000000,'$lt':1459382400000}})\n",
    "\n"
   ]
  },
  {
   "cell_type": "code",
   "execution_count": null,
   "metadata": {},
   "outputs": [],
   "source": [
    "\n"
   ]
  },
  {
   "cell_type": "code",
   "execution_count": 17,
   "metadata": {},
   "outputs": [
    {
     "name": "stdout",
     "output_type": "stream",
     "text": [
      "[{u'count': 5626447402.430028, u'_id': 0}]\n"
     ]
    }
   ],
   "source": [
    "a = list(salary.aggregate(\n",
    "[\n",
    "{'$match':{'decisiondate':{'$gt':1451606400000,'$lt':1454198400000}}},\n",
    "{'$group':\n",
    "            {'_id':0,\n",
    "             'count':{'$sum':'$salary'}}}\n",
    "]))\n",
    "print a"
   ]
  },
  {
   "cell_type": "code",
   "execution_count": null,
   "metadata": {},
   "outputs": [],
   "source": []
  },
  {
   "cell_type": "code",
   "execution_count": 18,
   "metadata": {},
   "outputs": [
    {
     "name": "stdout",
     "output_type": "stream",
     "text": [
      "[{u'count': 7019541787.570064, u'_id': 0}]\n"
     ]
    }
   ],
   "source": [
    "a = list(salary.aggregate(\n",
    "[\n",
    "{'$match':{'decisiondate':{'$gt':1454198400000,'$lt':1456704000000}}},\n",
    "{'$group':\n",
    "            {'_id':0,\n",
    "             'count':{'$sum':'$salary'}}}\n",
    "]))\n",
    "print a"
   ]
  },
  {
   "cell_type": "code",
   "execution_count": 19,
   "metadata": {},
   "outputs": [
    {
     "name": "stdout",
     "output_type": "stream",
     "text": [
      "[{u'count': 14790651004.50989, u'_id': 0}]\n"
     ]
    }
   ],
   "source": [
    "a = list(salary.aggregate(\n",
    "[\n",
    "{'$match':{'decisiondate':{'$gt':1456704000000,'$lt':1459382400000}}},\n",
    "{'$group':\n",
    "            {'_id':0,\n",
    "             'count':{'$sum':'$salary'}}}\n",
    "]))\n",
    "print a"
   ]
  },
  {
   "cell_type": "code",
   "execution_count": 21,
   "metadata": {},
   "outputs": [
    {
     "name": "stdout",
     "output_type": "stream",
     "text": [
      "[{u'count': 5711089118.800017, u'_id': 0}]\n"
     ]
    }
   ],
   "source": [
    "a = list(salary.aggregate(\n",
    "[\n",
    "{'$match':{'decisiondate':{'$gt':1459382400000,'$lt':1462060800000}}},\n",
    "{'$group':\n",
    "            {'_id':0,\n",
    "             'count':{'$sum':'$salary'}}}\n",
    "]))\n",
    "print a"
   ]
  },
  {
   "cell_type": "code",
   "execution_count": 23,
   "metadata": {},
   "outputs": [
    {
     "name": "stdout",
     "output_type": "stream",
     "text": [
      "[{u'count': 4794772962.169911, u'_id': 0}]\n"
     ]
    }
   ],
   "source": [
    "a = list(salary.aggregate(\n",
    "[\n",
    "{'$match':{'decisiondate':{'$gt':1462060800000,'$lt':1464652800000}}},\n",
    "{'$group':\n",
    "            {'_id':0,\n",
    "             'count':{'$sum':'$salary'}}}\n",
    "]))\n",
    "print a"
   ]
  },
  {
   "cell_type": "code",
   "execution_count": 24,
   "metadata": {},
   "outputs": [
    {
     "name": "stdout",
     "output_type": "stream",
     "text": [
      "[{u'count': 6132275490.579912, u'_id': 0}]\n"
     ]
    }
   ],
   "source": [
    "a = list(salary.aggregate(\n",
    "[\n",
    "{'$match':{'decisiondate':{'$gt':1464652800000,'$lt':1467331200000}}},\n",
    "{'$group':\n",
    "            {'_id':0,\n",
    "             'count':{'$sum':'$salary'}}}\n",
    "]))\n",
    "print a"
   ]
  },
  {
   "cell_type": "code",
   "execution_count": 25,
   "metadata": {},
   "outputs": [
    {
     "name": "stdout",
     "output_type": "stream",
     "text": [
      "[{u'count': 4959235785.539995, u'_id': 0}]\n"
     ]
    }
   ],
   "source": [
    "a = list(salary.aggregate(\n",
    "[\n",
    "{'$match':{'decisiondate':{'$gt':1467331200000,'$lt':1469923200000}}},\n",
    "{'$group':\n",
    "            {'_id':0,\n",
    "             'count':{'$sum':'$salary'}}}\n",
    "]))\n",
    "print a"
   ]
  },
  {
   "cell_type": "code",
   "execution_count": 27,
   "metadata": {},
   "outputs": [
    {
     "name": "stdout",
     "output_type": "stream",
     "text": [
      "[{u'count': 5204764246.399958, u'_id': 0}]\n"
     ]
    }
   ],
   "source": [
    "a = list(salary.aggregate(\n",
    "[\n",
    "{'$match':{'decisiondate':{'$gt':1469923200000,'$lt':1472601600000}}},\n",
    "{'$group':\n",
    "            {'_id':0,\n",
    "             'count':{'$sum':'$salary'}}}\n",
    "]))\n",
    "print a"
   ]
  },
  {
   "cell_type": "code",
   "execution_count": 28,
   "metadata": {},
   "outputs": [
    {
     "name": "stdout",
     "output_type": "stream",
     "text": [
      "[{u'count': 5108078266.949933, u'_id': 0}]\n"
     ]
    }
   ],
   "source": [
    "a = list(salary.aggregate(\n",
    "[\n",
    "{'$match':{'decisiondate':{'$gt':1472601600000,'$lt':1475193600000}}},\n",
    "{'$group':\n",
    "            {'_id':0,\n",
    "             'count':{'$sum':'$salary'}}}\n",
    "]))\n",
    "print a"
   ]
  },
  {
   "cell_type": "code",
   "execution_count": 40,
   "metadata": {},
   "outputs": [
    {
     "name": "stdout",
     "output_type": "stream",
     "text": [
      "[]\n"
     ]
    }
   ],
   "source": [
    "a = list(salary.aggregate(\n",
    "[\n",
    "{'$match':{'decisiondate':{'$gt':1475193600000,'$lt':1477872000000}}},\n",
    "{'$group':\n",
    "            {'_id':0,\n",
    "             'count':{'$sum':'$salary'}}}\n",
    "]))\n",
    "print a"
   ]
  },
  {
   "cell_type": "code",
   "execution_count": 33,
   "metadata": {},
   "outputs": [
    {
     "name": "stdout",
     "output_type": "stream",
     "text": [
      "[{u'count': 10292569601.370092, u'_id': 0}]\n"
     ]
    }
   ],
   "source": [
    "a = list(salary.aggregate(\n",
    "[\n",
    "{'$match':{'decisiondate':{'$gt':1477872000000,'$lt':1483056000000}}},\n",
    "{'$group':\n",
    "            {'_id':0,\n",
    "             'count':{'$sum':'$salary'}}}\n",
    "]))\n",
    "print a"
   ]
  },
  {
   "cell_type": "code",
   "execution_count": 34,
   "metadata": {},
   "outputs": [
    {
     "name": "stdout",
     "output_type": "stream",
     "text": [
      "[{u'count': 3897419242.6299725, u'_id': 0}]\n"
     ]
    }
   ],
   "source": [
    "a = list(salary.aggregate(\n",
    "[\n",
    "{'$match':{'decisiondate':{'$gt':1483056000000,'$lt':1485820800000}}},\n",
    "{'$group':\n",
    "            {'_id':0,\n",
    "             'count':{'$sum':'$salary'}}}\n",
    "]))\n",
    "print a"
   ]
  },
  {
   "cell_type": "code",
   "execution_count": 35,
   "metadata": {},
   "outputs": [
    {
     "name": "stdout",
     "output_type": "stream",
     "text": [
      "[{u'count': 5737304027.019932, u'_id': 0}]\n"
     ]
    }
   ],
   "source": [
    "a = list(salary.aggregate(\n",
    "[\n",
    "{'$match':{'decisiondate':{'$gt':1485820800000,'$lt':1488240000000}}},\n",
    "{'$group':\n",
    "            {'_id':0,\n",
    "             'count':{'$sum':'$salary'}}}\n",
    "]))\n",
    "print a"
   ]
  },
  {
   "cell_type": "code",
   "execution_count": 36,
   "metadata": {},
   "outputs": [
    {
     "name": "stdout",
     "output_type": "stream",
     "text": [
      "[{u'count': 19439361765.391705, u'_id': 0}]\n"
     ]
    }
   ],
   "source": [
    "a = list(salary.aggregate(\n",
    "[\n",
    "{'$match':{'decisiondate':{'$gt':1488240000000,'$lt':1490918400000}}},\n",
    "{'$group':\n",
    "            {'_id':0,\n",
    "             'count':{'$sum':'$salary'}}}\n",
    "]))\n",
    "print a"
   ]
  },
  {
   "cell_type": "code",
   "execution_count": 42,
   "metadata": {},
   "outputs": [
    {
     "name": "stdout",
     "output_type": "stream",
     "text": [
      "[{u'count': 5653067952.859903, u'_id': 0}]\n"
     ]
    }
   ],
   "source": [
    "a = list(salary_2017.aggregate(\n",
    "[\n",
    "{'$match':{'decisiondate':{'$gt':1490918400000,'$lt':1493510400000}}},\n",
    "{'$group':\n",
    "            {'_id':0,\n",
    "             'count':{'$sum':'$salary'}}}\n",
    "]))\n",
    "print a"
   ]
  },
  {
   "cell_type": "code",
   "execution_count": 43,
   "metadata": {},
   "outputs": [
    {
     "name": "stdout",
     "output_type": "stream",
     "text": [
      "[{u'count': 4972960158.849846, u'_id': 0}]\n"
     ]
    }
   ],
   "source": [
    "a = list(salary_2017.aggregate(\n",
    "[\n",
    "{'$match':{'decisiondate':{'$gt':1493510400000,'$lt':1496188800000}}},\n",
    "{'$group':\n",
    "            {'_id':0,\n",
    "             'count':{'$sum':'$salary'}}}\n",
    "]))\n",
    "print a"
   ]
  },
  {
   "cell_type": "code",
   "execution_count": 51,
   "metadata": {},
   "outputs": [
    {
     "name": "stdout",
     "output_type": "stream",
     "text": [
      "[{u'count': 5142111556.439883, u'_id': 0}]\n"
     ]
    }
   ],
   "source": [
    "a = list(salary_2017.aggregate(\n",
    "[\n",
    "{'$match':{'decisiondate':{'$gt':1495929600000,'$lt':1498867200000}}},\n",
    "{'$group':\n",
    "            {'_id':0,\n",
    "             'count':{'$sum':'$salary'}}}\n",
    "]))\n",
    "print a"
   ]
  },
  {
   "cell_type": "code",
   "execution_count": null,
   "metadata": {},
   "outputs": [],
   "source": []
  },
  {
   "cell_type": "code",
   "execution_count": 49,
   "metadata": {},
   "outputs": [
    {
     "name": "stdout",
     "output_type": "stream",
     "text": [
      "[{u'count': 4750303046.439946, u'_id': 0}]\n"
     ]
    }
   ],
   "source": [
    "a = list(salary_2017.aggregate(\n",
    "[\n",
    "{'$match':{'decisiondate':{'$gt':1498521600000,'$lt':1501459200000}}},\n",
    "{'$group':\n",
    "            {'_id':0,\n",
    "             'count':{'$sum':'$salary'}}}\n",
    "]))\n",
    "print a"
   ]
  },
  {
   "cell_type": "code",
   "execution_count": 47,
   "metadata": {},
   "outputs": [
    {
     "name": "stdout",
     "output_type": "stream",
     "text": [
      "[{u'count': 4435456102.539993, u'_id': 0}]\n"
     ]
    }
   ],
   "source": [
    "a = list(salary_2017.aggregate(\n",
    "[\n",
    "{'$match':{'decisiondate':{'$gt':1501459200000,'$lt':1504137600000}}},\n",
    "{'$group':\n",
    "            {'_id':0,\n",
    "             'count':{'$sum':'$salary'}}}\n",
    "]))\n",
    "print a"
   ]
  },
  {
   "cell_type": "code",
   "execution_count": 48,
   "metadata": {},
   "outputs": [
    {
     "name": "stdout",
     "output_type": "stream",
     "text": [
      "[{u'count': 4511578119.920001, u'_id': 0}]\n"
     ]
    }
   ],
   "source": [
    "a = list(salary_2017.aggregate(\n",
    "[\n",
    "{'$match':{'decisiondate':{'$gt':1504137600000,'$lt':1506816000000}}},\n",
    "{'$group':\n",
    "            {'_id':0,\n",
    "             'count':{'$sum':'$salary'}}}\n",
    "]))\n",
    "print a"
   ]
  },
  {
   "cell_type": "code",
   "execution_count": null,
   "metadata": {},
   "outputs": [],
   "source": []
  },
  {
   "cell_type": "code",
   "execution_count": null,
   "metadata": {},
   "outputs": [],
   "source": []
  },
  {
   "cell_type": "code",
   "execution_count": 8,
   "metadata": {},
   "outputs": [
    {
     "name": "stdout",
     "output_type": "stream",
     "text": [
      "5367875\n"
     ]
    }
   ],
   "source": []
  },
  {
   "cell_type": "code",
   "execution_count": 9,
   "metadata": {},
   "outputs": [
    {
     "name": "stdout",
     "output_type": "stream",
     "text": [
      "172152\n"
     ]
    }
   ],
   "source": [
    "a = []\n",
    "for r in salary.find():\n",
    "    caseId = r.get('caseId')\n",
    "    a.append(caseId)\n",
    "print salary.count() - len(set(a))\n"
   ]
  },
  {
   "cell_type": "code",
   "execution_count": null,
   "metadata": {},
   "outputs": [],
   "source": []
  },
  {
   "cell_type": "code",
   "execution_count": null,
   "metadata": {},
   "outputs": [],
   "source": []
  },
  {
   "cell_type": "code",
   "execution_count": 16,
   "metadata": {},
   "outputs": [
    {
     "name": "stdout",
     "output_type": "stream",
     "text": [
      "5635014\n",
      "1348\n",
      "20662\n",
      "87958\n"
     ]
    }
   ],
   "source": [
    "print salary.count()\n",
    "print salary2.count({'decisiondate':{'$gt':1191240000000,'$lt':1222862400000},'visaClass':'H-1B'})\n",
    "print salary_2015_H2A.count()\n",
    "print salary_2009_LCA.count()"
   ]
  },
  {
   "cell_type": "code",
   "execution_count": 41,
   "metadata": {},
   "outputs": [
    {
     "name": "stdout",
     "output_type": "stream",
     "text": [
      "             _id      avgAmount\n",
      "0  Mountain View  123871.307692\n",
      "1   MOUNTAINVIEW  178000.000000\n",
      "2  MOUNTAIN VIEW  130715.084828\n"
     ]
    }
   ],
   "source": [
    "import json\n",
    "a= list(salary_2015_H2A.aggregate([{'$match':{'cleanCompany':'Google Inc.'}},\n",
    "                                {'$group':{'_id':'$employerCity','avgAmount':{'$avg':'$salary'}}},\n",
    "                               {'$project':{'titleDisplay':1,'avgAmount':1,'employerCity':1}}\n",
    "                                  ]))\n",
    "\n",
    "with open('a.json', 'w') as w:\n",
    "    json.dump(a,w)\n",
    "df = pd.read_json('a.json')\n",
    "print df.sort_values('_id',ascending=False)"
   ]
  },
  {
   "cell_type": "code",
   "execution_count": 42,
   "metadata": {},
   "outputs": [],
   "source": [
    "import json\n",
    "import pandas as pd\n",
    "b= list(salary.aggregate([{'$match':{'cleanCompany':'Google Inc.'}},\n",
    "                          {'$group':{'_id':'$titleDisplay','avgAmount':{'$avg':'$salary'}}}\n",
    "                                  ]))\n",
    "\n",
    "with open('b.json', 'w') as w:\n",
    "    json.dump(b,w)"
   ]
  },
  {
   "cell_type": "code",
   "execution_count": 3,
   "metadata": {},
   "outputs": [],
   "source": [
    "import pandas as pd\n",
    "df = pd.read_json('b.json')\n",
    "# df.sort_values('_id',ascending=False)\n"
   ]
  },
  {
   "cell_type": "code",
   "execution_count": null,
   "metadata": {},
   "outputs": [],
   "source": [
    "db.getCollection('salary2').count({'decisiondate':{'$gt':1191240000000,'$lt':1222862400000},'visaClass':'H-1B'})"
   ]
  },
  {
   "cell_type": "code",
   "execution_count": null,
   "metadata": {},
   "outputs": [],
   "source": [
    "\n",
    "    "
   ]
  },
  {
   "cell_type": "code",
   "execution_count": null,
   "metadata": {},
   "outputs": [],
   "source": [
    "b =list(set(a))\n",
    "for x in a:\n",
    "    if x not in b:\n",
    "        print x"
   ]
  },
  {
   "cell_type": "code",
   "execution_count": 54,
   "metadata": {},
   "outputs": [
    {
     "name": "stdout",
     "output_type": "stream",
     "text": [
      "5367875\n"
     ]
    }
   ],
   "source": [
    "print len(a)"
   ]
  },
  {
   "cell_type": "code",
   "execution_count": 5,
   "metadata": {},
   "outputs": [
    {
     "name": "stdout",
     "output_type": "stream",
     "text": [
      "5195723\n"
     ]
    }
   ],
   "source": [
    "# >>> t = [1,1,2,2,3,3,4,5]\n",
    "# >>> print list(set(t))\n",
    "# [1,2,3,4,5]\n",
    "\n",
    "print len(list(set(a)))"
   ]
  },
  {
   "cell_type": "code",
   "execution_count": null,
   "metadata": {},
   "outputs": [],
   "source": []
  },
  {
   "cell_type": "code",
   "execution_count": null,
   "metadata": {},
   "outputs": [],
   "source": []
  },
  {
   "cell_type": "code",
   "execution_count": null,
   "metadata": {},
   "outputs": [],
   "source": []
  },
  {
   "cell_type": "code",
   "execution_count": null,
   "metadata": {},
   "outputs": [],
   "source": []
  },
  {
   "cell_type": "code",
   "execution_count": null,
   "metadata": {},
   "outputs": [],
   "source": []
  },
  {
   "cell_type": "code",
   "execution_count": null,
   "metadata": {},
   "outputs": [],
   "source": []
  },
  {
   "cell_type": "code",
   "execution_count": null,
   "metadata": {},
   "outputs": [],
   "source": []
  },
  {
   "cell_type": "code",
   "execution_count": null,
   "metadata": {},
   "outputs": [],
   "source": []
  },
  {
   "cell_type": "code",
   "execution_count": null,
   "metadata": {},
   "outputs": [],
   "source": []
  },
  {
   "cell_type": "code",
   "execution_count": null,
   "metadata": {},
   "outputs": [],
   "source": []
  },
  {
   "cell_type": "code",
   "execution_count": null,
   "metadata": {},
   "outputs": [],
   "source": []
  },
  {
   "cell_type": "code",
   "execution_count": null,
   "metadata": {},
   "outputs": [],
   "source": []
  },
  {
   "cell_type": "code",
   "execution_count": null,
   "metadata": {},
   "outputs": [],
   "source": []
  },
  {
   "cell_type": "code",
   "execution_count": null,
   "metadata": {},
   "outputs": [],
   "source": []
  },
  {
   "cell_type": "code",
   "execution_count": null,
   "metadata": {},
   "outputs": [],
   "source": []
  },
  {
   "cell_type": "code",
   "execution_count": null,
   "metadata": {},
   "outputs": [],
   "source": []
  },
  {
   "cell_type": "code",
   "execution_count": 25,
   "metadata": {},
   "outputs": [],
   "source": []
  },
  {
   "cell_type": "code",
   "execution_count": null,
   "metadata": {},
   "outputs": [],
   "source": []
  },
  {
   "cell_type": "code",
   "execution_count": null,
   "metadata": {},
   "outputs": [],
   "source": []
  },
  {
   "cell_type": "code",
   "execution_count": null,
   "metadata": {},
   "outputs": [],
   "source": []
  },
  {
   "cell_type": "code",
   "execution_count": null,
   "metadata": {},
   "outputs": [],
   "source": []
  },
  {
   "cell_type": "code",
   "execution_count": null,
   "metadata": {},
   "outputs": [],
   "source": []
  },
  {
   "cell_type": "code",
   "execution_count": null,
   "metadata": {},
   "outputs": [],
   "source": []
  },
  {
   "cell_type": "code",
   "execution_count": null,
   "metadata": {},
   "outputs": [],
   "source": []
  },
  {
   "cell_type": "code",
   "execution_count": 9,
   "metadata": {},
   "outputs": [],
   "source": []
  },
  {
   "cell_type": "code",
   "execution_count": 17,
   "metadata": {},
   "outputs": [],
   "source": []
  },
  {
   "cell_type": "code",
   "execution_count": null,
   "metadata": {},
   "outputs": [],
   "source": []
  },
  {
   "cell_type": "code",
   "execution_count": null,
   "metadata": {},
   "outputs": [],
   "source": []
  },
  {
   "cell_type": "code",
   "execution_count": null,
   "metadata": {},
   "outputs": [],
   "source": []
  }
 ],
 "metadata": {
  "kernelspec": {
   "display_name": "Python 2",
   "language": "python",
   "name": "python2"
  },
  "language_info": {
   "codemirror_mode": {
    "name": "ipython",
    "version": 2
   },
   "file_extension": ".py",
   "mimetype": "text/x-python",
   "name": "python",
   "nbconvert_exporter": "python",
   "pygments_lexer": "ipython2",
   "version": "2.7.12"
  }
 },
 "nbformat": 4,
 "nbformat_minor": 2
}
