{
 "cells": [
  {
   "cell_type": "code",
   "execution_count": null,
   "metadata": {},
   "outputs": [],
   "source": [
    "from pymongo import MongoClient\n",
    "import pandas as pd\n",
    "import numpy as np\n",
    "import pymongo\n",
    "import pickle\n",
    "import json\n",
    "import time\n",
    "import seaborn as sns\n",
    "import matplotlib.pyplot as plt\n",
    "sns.set(color_codes=True)\n",
    "FILE = \"/home/chenlei/Downloads/resume_1m.csv\"\n",
    "\n",
    "client = MongoClient(host='192.168.1.201')\n",
    "client1 = MongoClient(host='localhost')\n",
    "client2 = MongoClient(host='mongodb1.dev.zippia.com')\n",
    "resume = client['zippia_chenlei']['resume_5M']\n",
    "resume_old = client1['zippia_pipeline']['resume']\n",
    "resume_dev = client2['zippia_pipeline']['resume_5M']\n",
    "\n",
    "\n",
    "FILE = \"/media/chenlei/7E665C0D665BC515/resume_5m.csv\""
   ]
  },
  {
   "cell_type": "code",
   "execution_count": null,
   "metadata": {},
   "outputs": [],
   "source": [
    "import csv\n",
    "df = pd.read_csv(FILE, nrows=200000)\n",
    "\n",
    "df1 = df.iloc[0:100]\n",
    "\n",
    "df2=df.loc[(df['id']>1322848) & (df['id']<=1322948)]\n",
    "df3=df.loc[(df['id']>1137656) & (df['id']<=1137556)]\n",
    "df4=df.loc[(df['id']>1282832) & (df['id']<=1282932)]\n",
    "df5=df.loc[(df['id']>1312760) & (df['id']<=1312860)]\n",
    "df3 = df.iloc[80000:80003]\n",
    "print df3\n",
    "df2.to_csv('exampe2.csv')\n",
    "df3.to_csv('exampe3.csv')\n",
    "df4.to_csv('exampe4.csv')\n",
    "df5.to_csv('exampe5.csv')"
   ]
  },
  {
   "cell_type": "code",
   "execution_count": 12,
   "metadata": {},
   "outputs": [],
   "source": [
    "import csv\n",
    "df = pd.read_csv(FILE, nrows=800000)\n",
    "df6 = df.iloc[70000:70003]\n",
    "df7=df.loc[(df['id']>1202750) & (df['id']<=1203750)]\n",
    "\n",
    "df7.to_csv('exampe6.csv')"
   ]
  },
  {
   "cell_type": "code",
   "execution_count": null,
   "metadata": {},
   "outputs": [],
   "source": [
    "import csv\n",
    "df = pd.read_csv(FILE, nrows=1000000)\n",
    "\n",
    "df3 = df.iloc[80000:80003]"
   ]
  },
  {
   "cell_type": "code",
   "execution_count": null,
   "metadata": {},
   "outputs": [],
   "source": [
    "resume_dev.count({})"
   ]
  },
  {
   "cell_type": "code",
   "execution_count": null,
   "metadata": {},
   "outputs": [],
   "source": [
    "import json\n",
    "\n",
    "\n",
    "def extract(x):\n",
    "    start_idx = x.rfind('/') + 1\n",
    "    end_idx = (x.rfind('?') + 1 or (len(x) + 1)) - 1\n",
    "    if end_idx <= start_idx:\n",
    "        end_idx = len(x)\n",
    "    return x[start_idx:end_idx]\n",
    "\n",
    "\n",
    "def work(data):\n",
    "    idx = 0\n",
    "    outs = []\n",
    "    for d in data:\n",
    "        idx += 1\n",
    "        try:\n",
    "            out_id = extract(d)\n",
    "            outs.append(out_id)\n",
    "        except Exception as e:\n",
    "            print(idx)\n",
    "            print(e)\n",
    "    return outs\n"
   ]
  },
  {
   "cell_type": "code",
   "execution_count": null,
   "metadata": {
    "scrolled": true
   },
   "outputs": [],
   "source": [
    "\n",
    "with open('/home/chenlei/ENV/resume_SourceURL_old.json', \"r\") as read:\n",
    "          data = json.load(read)\n",
    "\n",
    "o = work(data)"
   ]
  },
  {
   "cell_type": "code",
   "execution_count": null,
   "metadata": {},
   "outputs": [],
   "source": [
    "print len(o)\n",
    "print len(set(o))"
   ]
  },
  {
   "cell_type": "code",
   "execution_count": null,
   "metadata": {},
   "outputs": [],
   "source": [
    "x = set()\n",
    "dup_out = []\n",
    "for y in o:\n",
    "    if y in x:\n",
    "        dup_out.append(y)\n",
    "    x.add(y)"
   ]
  },
  {
   "cell_type": "code",
   "execution_count": null,
   "metadata": {},
   "outputs": [],
   "source": [
    "\n",
    "with open(\"./resume_SourceURL.json\", \"r\") as r:\n",
    "    data = json.load(r)\n",
    "\n",
    "o = work(data)\n",
    "\n",
    "len(o) == \n",
    "\n",
    "with open(\"./resume_SourceURL_old.json\", \"r\") as r:\n",
    "    data_old = json.load(r)\n",
    "\n",
    "o_old = work(data)\n",
    "\n",
    "\n",
    "x = set()\n",
    "dup_out = []\n",
    "for y in o_old:\n",
    "    if y in x:\n",
    "        dup_out.append(y)\n",
    "    x.add(y)\n",
    "\n",
    "\n",
    "for url in data_old:\n",
    "    if \"20c3ea0ae234cfd5\" in url:\n",
    "        print(url)"
   ]
  },
  {
   "cell_type": "code",
   "execution_count": null,
   "metadata": {},
   "outputs": [],
   "source": [
    "resume_dev.count({'E1DurationFrom':{'$eq':''},'E1DurationTo':{'$ne':''}})"
   ]
  },
  {
   "cell_type": "code",
   "execution_count": null,
   "metadata": {},
   "outputs": [],
   "source": [
    "resume_dev.count({'W2City':{'$eq':''},'W2State':{'$ne':''}})"
   ]
  },
  {
   "cell_type": "code",
   "execution_count": null,
   "metadata": {},
   "outputs": [],
   "source": []
  },
  {
   "cell_type": "code",
   "execution_count": null,
   "metadata": {},
   "outputs": [],
   "source": [
    "\n"
   ]
  },
  {
   "cell_type": "code",
   "execution_count": null,
   "metadata": {
    "scrolled": true
   },
   "outputs": [],
   "source": [
    "i = 0\n",
    "SourceURL_old = 0\n",
    "State_old = 0\n",
    "City_old = 0\n",
    "W1Title_old = 0\n",
    "for r in resume_old.find({}):\n",
    "    i += 1\n",
    "    if r['SourceURL'] =='':\n",
    "        SourceURL_old += 1\n",
    "    if r['City'] =='':\n",
    "        City_old += 1\n",
    "    if r['State'] =='':\n",
    "        State_old += 1\n",
    "    if i % 1000000 ==0:\n",
    "        print (i)\n",
    "print (SourceURL_old)\n",
    "print (State_old)\n",
    "print (City_old)"
   ]
  },
  {
   "cell_type": "code",
   "execution_count": null,
   "metadata": {},
   "outputs": [],
   "source": []
  },
  {
   "cell_type": "code",
   "execution_count": null,
   "metadata": {},
   "outputs": [],
   "source": []
  },
  {
   "cell_type": "code",
   "execution_count": null,
   "metadata": {},
   "outputs": [],
   "source": [
    "from collections import Counter\n",
    "# City_count = Counter(City)\n",
    "# State_count = Counter(State)\n",
    "W1Title_count = Counter(W1Title)"
   ]
  },
  {
   "cell_type": "code",
   "execution_count": null,
   "metadata": {},
   "outputs": [],
   "source": [
    "for key,value in sorted(W1Title_count.items(), key=lambda item: (item[1],item[0]),reverse = True):\n",
    "    print (\"%s: %s\" % (key, value))"
   ]
  },
  {
   "cell_type": "code",
   "execution_count": null,
   "metadata": {},
   "outputs": [],
   "source": []
  },
  {
   "cell_type": "code",
   "execution_count": null,
   "metadata": {},
   "outputs": [],
   "source": [
    "print resume_dev.count({})\n",
    "print len(set(SourceURL))\n",
    "print resume_dev.count({'SourceURL':' '})\n",
    "print resume_dev.count({'City':' '})\n",
    "print resume_dev.count({'State':' '})\n",
    "print resume_dev.count({'W1Title':' '})\n",
    "print len(set(City))\n",
    "print len(set(State))"
   ]
  },
  {
   "cell_type": "code",
   "execution_count": null,
   "metadata": {},
   "outputs": [],
   "source": [
    "print resume.count({'W1Title':' '})"
   ]
  },
  {
   "cell_type": "code",
   "execution_count": null,
   "metadata": {},
   "outputs": [],
   "source": [
    "print resume.count({'W1Title':''})"
   ]
  },
  {
   "cell_type": "code",
   "execution_count": null,
   "metadata": {},
   "outputs": [],
   "source": [
    "from collections import Counter\n",
    "City_count = Counter(City)\n",
    "State_count = Counter(State)\n",
    "W1Title_count = Counter(W1Title)"
   ]
  },
  {
   "cell_type": "code",
   "execution_count": null,
   "metadata": {},
   "outputs": [],
   "source": [
    "for key,value in sorted(City_count.items(), key=lambda item: (item[1],item[0]),reverse = True):\n",
    "    print (\"%s: %s\" % (key, value))"
   ]
  },
  {
   "cell_type": "code",
   "execution_count": null,
   "metadata": {},
   "outputs": [],
   "source": [
    "for key,value in sorted(State_count.items(), key=lambda item: (item[1],item[0]),reverse = True):\n",
    "    print (\"%s: %s\" % (key, value))"
   ]
  },
  {
   "cell_type": "code",
   "execution_count": null,
   "metadata": {},
   "outputs": [],
   "source": [
    "# from collections import Counter\n",
    "# Counter(['apple','red','apple','red','red','pear'])\n",
    "# Counter({'red': 3, 'apple': 2, 'pear': 1})\n",
    "\n",
    "# [x.lower() for x in [\"A\",\"B\",\"C\"]]\n"
   ]
  },
  {
   "cell_type": "code",
   "execution_count": null,
   "metadata": {},
   "outputs": [],
   "source": [
    "resume.count({'City':{'$eq':''}})"
   ]
  },
  {
   "cell_type": "code",
   "execution_count": null,
   "metadata": {},
   "outputs": [],
   "source": [
    "i = 0\n",
    "W1Title = []\n",
    "W1City = []\n",
    "W1State = []\n",
    "W1DurationFrom = []\n",
    "W1DurationTo = []\n",
    "W1Description = []\n",
    "for r in resume.find({}):\n",
    "    i += 1\n",
    "    W1Title.append(r.get('W1Title'))\n",
    "    W1City.append(r.get('W1City'))\n",
    "    W1State.append(r.get('W1State'))\n",
    "    W1DurationFrom.append(r.get('W1Duration From'))\n",
    "    W1DurationTo.append(r.get('W1Duration To'))\n",
    "    \n",
    "    if i%1000000 ==0:\n",
    "        print i"
   ]
  },
  {
   "cell_type": "code",
   "execution_count": null,
   "metadata": {},
   "outputs": [],
   "source": [
    "print resume.count({'$or':[{'CoverLetterObjective':''},{'CoverLetterObjective':' '}]})\n",
    "print resume.count({'$or':[{'CoverLetterObjective':''},{'CoverLetterParagraphs':' '}]})\n",
    "print resume.count({'$or':[{'ID':''},{'ID':' '}]})\n",
    "print resume.count({'$or':[{'Skill':''},{'Skill':' '}]})\n",
    "print resume.count({'$or':[{'ContactName':''},{'ContactName':' '}]})\n",
    "print resume.count({'$or':[{'Duplicate':''},{'Duplicate':' '}]})\n",
    "print resume.count({'$or':[{'VisaStatus':''},{'VisaStatus':' '}]})\n",
    "\n",
    "# print resume.count({'CoverLetterParagraphs':{'$eq':['',' ']}})\n",
    "# print resume.count({'ID':{'$eq':['',' ']}})\n",
    "# print resume.count({'Skill':{'$eq':['',' ']}})\n",
    "# print resume.count({'ContactName':{'$eq':['',' ']}})\n",
    "# print resume.count({'Duplicate':{'$eq':['',' ']}})\n",
    "# print resume.count({'VisaStatus':{'$eq':['',' ']}})"
   ]
  },
  {
   "cell_type": "code",
   "execution_count": null,
   "metadata": {},
   "outputs": [],
   "source": [
    "print resume_old.count({'$or':[{'CoverLetterObjective':''},{'CoverLetterObjective':' '}]})\n",
    "print resume_old.count({'$or':[{'CoverLetterParagraphs':''},{'CoverLetterParagraphs':' '}]})\n",
    "print resume_old.count({'$or':[{'ID':''},{'ID':' '}]})\n",
    "print resume_old.count({'$or':[{'Skill':''},{'Skill':' '}]})\n",
    "print resume_old.count({'$or':[{'ContactName':''},{'ContactName':' '}]})\n",
    "print resume_old.count({'$or':[{'Duplicate':''},{'Duplicate':' '}]})\n",
    "print resume_old.count({'$or':[{'VisaStatus':''},{'VisaStatus':' '}]})"
   ]
  },
  {
   "cell_type": "code",
   "execution_count": null,
   "metadata": {},
   "outputs": [],
   "source": [
    "print resume_old.count({'$or':[{'W1Title':''},{'W1Title':' '}]})\n",
    "print resume_old.count({'$or':[{'W1Duration From':''},{'W1Duration From':' '}]})\n",
    "print resume_old.count({'$or':[{'W1Duration To':''},{'W1Duration To':' '}]})\n",
    "print resume_old.count({'$or':[{'W1Description':''},{'W1Description':' '}]})"
   ]
  },
  {
   "cell_type": "code",
   "execution_count": null,
   "metadata": {},
   "outputs": [],
   "source": [
    "print resume.count({'$or':[{'W1Title':''},{'W1Title':' '}]})\n",
    "print resume.count({'$or':[{'W1Description':''},{'W1Description':' '}]})"
   ]
  },
  {
   "cell_type": "code",
   "execution_count": null,
   "metadata": {},
   "outputs": [],
   "source": [
    "print resume.count({'$or':[{'W1DurationFrom':''},{'W1DurationFrom':' '}]})\n",
    "print resume.count({'$or':[{'W1DurationTo':''},{'W1DurationTo':' '}]})"
   ]
  },
  {
   "cell_type": "code",
   "execution_count": null,
   "metadata": {},
   "outputs": [],
   "source": [
    "path = \"/home/chenlei/ENV/resume_city.json\"\n",
    "with open(path) as file_obj:\n",
    "                all_the_text = file_obj.read()\n",
    "                print all_the_text\n",
    "                all_the_text = all_the_text.lower()\n",
    "        #       all_the_text = re.sub(\"\\\"|,|\\.\",\"\",all_the_text)\n",
    "\n",
    "\n",
    "                for word in all_the_text.split(','):\n",
    "                        if word not in result:\n",
    "                                result[word] = 0\n",
    "                        result[word] += 1\n",
    "                return result\n"
   ]
  },
  {
   "cell_type": "code",
   "execution_count": null,
   "metadata": {},
   "outputs": [],
   "source": [
    "    from pymongo import MongoClient\n",
    "    import pandas as pd\n",
    "    import numpy as np\n",
    "    import pymongo\n",
    "    import pickle\n",
    "    import json\n",
    "    import time\n",
    "\n",
    "\n",
    "    HOST1 = \"192.168.1.201\"\n",
    "    PORT1 = 27017\n",
    "    DB = \"zippia\"\n",
    "    resume = MongoClient(HOST1, PORT1)[DB][\"resume\"]\n",
    "\n",
    "    FILE = \"/home/chenlei/ENV/resume_sourceurl.json\"\n",
    "    import csv\n",
    "    csv.field_size_limit(sys.maxsize)\n",
    "    with open(FILE, \"r\") as r:\n",
    "        reader = csv.reader(r)\n",
    "        i = 0\n",
    "        header = next(reader)\n",
    "        try:\n",
    "            for row in reader:\n",
    "                i += 1\n",
    "                if i % 10000 == 0:\n",
    "                    print(i)\n",
    "                resume.insert_one(dict(zip(header, row)))\n",
    "        except Exception as e:\n",
    "            print(\"%d,%s\" %(i, e))\n",
    "        \n",
    "with open(FILE, \"r\") as r:\n",
    "    i = 0\n",
    "    for l in r:\n",
    "        i += 1\n",
    "        l = len(l) - 1\n",
    "        if l > 100000:\n",
    "            print(\"Line %d: %d\" % (i, l))"
   ]
  },
  {
   "cell_type": "code",
   "execution_count": null,
   "metadata": {},
   "outputs": [],
   "source": []
  },
  {
   "cell_type": "code",
   "execution_count": null,
   "metadata": {},
   "outputs": [],
   "source": []
  }
 ],
 "metadata": {
  "kernelspec": {
   "display_name": "Python 3",
   "language": "python",
   "name": "python3"
  },
  "language_info": {
   "codemirror_mode": {
    "name": "ipython",
    "version": 2
   },
   "file_extension": ".py",
   "mimetype": "text/x-python",
   "name": "python",
   "nbconvert_exporter": "python",
   "pygments_lexer": "ipython2",
   "version": "2.7.12"
  }
 },
 "nbformat": 4,
 "nbformat_minor": 2
}
