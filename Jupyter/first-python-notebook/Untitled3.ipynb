{
 "cells": [
  {
   "cell_type": "code",
   "execution_count": 4,
   "metadata": {
    "collapsed": true
   },
   "outputs": [
    {
     "name": "stdout",
     "output_type": "stream",
     "text": [
      "['', '/home/chenlei/ENV/lib/python2.7', '/home/chenlei/ENV/lib/python2.7/plat-x86_64-linux-gnu', '/home/chenlei/ENV/lib/python2.7/lib-tk', '/home/chenlei/ENV/lib/python2.7/lib-old', '/home/chenlei/ENV/lib/python2.7/lib-dynload', '/usr/lib/python2.7', '/usr/lib/python2.7/plat-x86_64-linux-gnu', '/usr/lib/python2.7/lib-tk', '/home/chenlei/ENV/local/lib/python2.7/site-packages', '/home/chenlei/ENV/lib/python2.7/site-packages', '/home/chenlei/ENV/local/lib/python2.7/site-packages/IPython/extensions', '/home/chenlei/.ipython']\n"
     ]
    }
   ],
   "source": [
    "import sys\n",
    "print sys.path"
   ]
  },
  {
   "cell_type": "code",
   "execution_count": 10,
   "metadata": {},
   "outputs": [],
   "source": [
    "import numpy as np\n",
    "import pandas as pd"
   ]
  },
  {
   "cell_type": "code",
   "execution_count": 25,
   "metadata": {},
   "outputs": [],
   "source": [
    "df = pd.read_csv('~/workarea/Data/FCL/csv/H-2A_Disclosure_Data_FY17.csv')"
   ]
  },
  {
   "cell_type": "code",
   "execution_count": 28,
   "metadata": {
    "scrolled": true
   },
   "outputs": [
    {
     "data": {
      "text/plain": [
       "CASE_NUMBER                         object\n",
       "DECISION_DATE                       object\n",
       "VISA_CLASS                          object\n",
       "CASE_RECEIVED_DATE                  object\n",
       "CASE_STATUS                         object\n",
       "CERTIFICATION_BEGIN_DATE            object\n",
       "CERTIFICATION_END_DATE              object\n",
       "PRIMARY/SUB                         object\n",
       "EMPLOYER_NAME                       object\n",
       "TRADE_NAME_DBA                      object\n",
       "EMPLOYER_ADDRESS1                   object\n",
       "EMPLOYER_ADDRESS2                   object\n",
       "EMPLOYER_CITY                       object\n",
       "EMPLOYER_STATE                      object\n",
       "EMPLOYER_POSTAL_CODE                object\n",
       "EMPLOYER_COUNTRY                    object\n",
       "EMPLOYER_PROVINCE                   object\n",
       "EMPLOYER_PHONE                      object\n",
       "EMPLOYER_PHONE_EXT                 float64\n",
       "AGENT_POC_EMPLOYER_REP_BY_AGENT     object\n",
       "LAWFIRM_NAME                        object\n",
       "AGENT_ATTORNEY_NAME                 object\n",
       "AGENT_ATTORNEY_CITY                 object\n",
       "AGENT_ATTORNEY_STATE                object\n",
       "JOB_TITLE                           object\n",
       "SOC_CODE                            object\n",
       "SOC_TITLE                           object\n",
       "PRIMARY_CROP                        object\n",
       "NAICS_CODE                         float64\n",
       "NBR_WORKERS_REQUESTED              float64\n",
       "                                    ...   \n",
       "NATURE_OF_TEMPORARY_NEED            object\n",
       "BASIC_NUMBER_OF_HOURS              float64\n",
       "HOURLY_WORK_SCHEDULE_AM             object\n",
       "HOURLY_WORK_SCHEDULE_PM             object\n",
       "BASIC_RATE_OF_PAY                   object\n",
       "OVERTIME_RATE_FROM                 float64\n",
       "OVERTIME_RATE_TO                   float64\n",
       "BASIC_UNIT_OF_PAY                   object\n",
       "SUPERVISE_OTHER_EMP                 object\n",
       "SUPERVISE_HOW_MANY                 float64\n",
       "EDUCATION_LEVEL                     object\n",
       "OTHER_EDU                           object\n",
       "MAJOR                               object\n",
       "SECOND_DIPLOMA                      object\n",
       "SECOND_DIPLOMA_MAJOR               float64\n",
       "TRAINING_REQ                        object\n",
       "NUM_MONTHS_TRAINING                float64\n",
       "NAME_REQD_TRAINING                  object\n",
       "EMP_EXPERIENCE_REQD                 object\n",
       "EMP_EXP_NUM_MONTHS                 float64\n",
       "WORKSITE_CITY                       object\n",
       "WORKSITE_COUNTY                     object\n",
       "WORKSITE_STATE                      object\n",
       "WORKSITE_POSTAL_CODE                object\n",
       "OTHER_WORKSITE_LOCATION             object\n",
       "ORGANIZATION_FLAG                   object\n",
       "SWA_NAME                            object\n",
       "JOB_IDNUMBER                        object\n",
       "JOB_START_DATE                      object\n",
       "JOB_END_DATE                        object\n",
       "Length: 62, dtype: object"
      ]
     },
     "execution_count": 28,
     "metadata": {},
     "output_type": "execute_result"
    }
   ],
   "source": [
    "df.dtypes"
   ]
  },
  {
   "cell_type": "code",
   "execution_count": null,
   "metadata": {},
   "outputs": [],
   "source": []
  },
  {
   "cell_type": "code",
   "execution_count": null,
   "metadata": {},
   "outputs": [],
   "source": []
  }
 ],
 "metadata": {
  "kernelspec": {
   "display_name": "Python 2",
   "language": "python",
   "name": "python2"
  },
  "language_info": {
   "codemirror_mode": {
    "name": "ipython",
    "version": 2
   },
   "file_extension": ".py",
   "mimetype": "text/x-python",
   "name": "python",
   "nbconvert_exporter": "python",
   "pygments_lexer": "ipython2",
   "version": "2.7.12"
  }
 },
 "nbformat": 4,
 "nbformat_minor": 2
}
