{
 "cells": [
  {
   "cell_type": "code",
   "execution_count": 2,
   "metadata": {},
   "outputs": [],
   "source": [
    "import pymongo\n",
    "import os\n",
    "from pymongo import MongoClient\n",
    "client = MongoClient(host ='datascience1.dev.zippia.com')\n",
    "original = client['zippia_187_2']['wikipedia_origianl']\n",
    "parse = client['zippia_187_2']['wikipedia_parsed']\n",
    "parse_4 = client['zippia_187_2']['wikipedia_parsed_4']\n",
    "cleansed = client['zippia_187_2']['wikipedia_cleansed']\n",
    "cleansed_chenlei = client['zippia_187_2']['wikipedia_cleansed_chenlei']\n",
    "\n",
    "seed_company = client['zippia_187_2']['seed_company']"
   ]
  },
  {
   "cell_type": "code",
   "execution_count": null,
   "metadata": {},
   "outputs": [],
   "source": [
    "cleansed_old_id = []\n",
    "x = 0\n",
    "for i in cleansed.find({'flag':'Valid'}):\n",
    "    cleansed_old_id.append(i.get('_id'))\n",
    "    x += 1\n",
    "    if x % 1000 == 0:\n",
    "        print x\n",
    "\n",
    "cleansed_new_id = []\n",
    "y = 0\n",
    "for i in cleansed_chenlei.find({'flag':'Valid'}):\n",
    "    cleansed_new_id.append(i.get('_id'))\n",
    "    y += 1\n",
    "    if y % 1000 == 0:\n",
    "        print y\n",
    "\n",
    "a = set(cleansed_old_id).difference(set(cleansed_new_id))"
   ]
  },
  {
   "cell_type": "code",
   "execution_count": null,
   "metadata": {
    "scrolled": true
   },
   "outputs": [],
   "source": [
    "print parse.count({'matched':1})\n",
    "print parse_4.count({'matched':1})\n",
    "\n",
    "print cleansed.count({'matched':1})\n",
    "print cleansed_4.count({'matched':1})"
   ]
  },
  {
   "cell_type": "code",
   "execution_count": 15,
   "metadata": {},
   "outputs": [
    {
     "name": "stdout",
     "output_type": "stream",
     "text": [
      "3256\n",
      "6983\n",
      "6985\n"
     ]
    }
   ],
   "source": [
    "# print cleansed.count({'flag':'Valid'})\n",
    "print cleansed_chenlei.count({'flag':'Invalid'})\n",
    "print cleansed_chenlei.count({'flag':'Valid'})\n",
    "print cleansed.count({'flag':'Valid'})"
   ]
  },
  {
   "cell_type": "code",
   "execution_count": 14,
   "metadata": {},
   "outputs": [
    {
     "name": "stdout",
     "output_type": "stream",
     "text": [
      "[u'Acquired', u'Operating', u'Operating Subsidiary', u'Out of Business']\n",
      "605609\n",
      "578104\n",
      "2726\n",
      "8971\n",
      "15808\n"
     ]
    }
   ],
   "source": [
    "print seed_company.distinct('status')\n",
    "print seed_company.count({})\n",
    "print seed_company.count({'status':'Operating'})\n",
    "print seed_company.count({'status':'Out of Business'})\n",
    "print seed_company.count({'status':'Acquired'})\n",
    "print seed_company.count({'status':'Operating Subsidiary'})"
   ]
  }
 ],
 "metadata": {
  "kernelspec": {
   "display_name": "Python 3",
   "language": "python",
   "name": "python3"
  },
  "language_info": {
   "codemirror_mode": {
    "name": "ipython",
    "version": 3
   },
   "file_extension": ".py",
   "mimetype": "text/x-python",
   "name": "python",
   "nbconvert_exporter": "python",
   "pygments_lexer": "ipython3",
   "version": "3.6.0"
  }
 },
 "nbformat": 4,
 "nbformat_minor": 2
}
