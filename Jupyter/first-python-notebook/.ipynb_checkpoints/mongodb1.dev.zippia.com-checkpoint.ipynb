{
 "cells": [
  {
   "cell_type": "code",
   "execution_count": null,
   "metadata": {
    "scrolled": false
   },
   "outputs": [],
   "source": [
    "import os\n",
    "import pymongo\n",
    "from pymongo import MongoClient\n",
    "\n",
    "\n",
    "MONGO_HOST = os.getenv('MONGO_HOST', 'mongodb1.dev.zippia.com')\n",
    "MONGO_DB_NAME = os.getenv('MONGO_DB_NAME', 'zippia')\n",
    "SALARY = os.getenv('SALARY', 'salary_new')\n",
    "SALARY_NEW_backup = os.getenv('SALARY_BACKUP', 'salary_new_backup')\n",
    "SALARY_2017 = os.getenv('SALARY_BACKUP', 'salary_2017_update') \n",
    "\n",
    "client = MongoClient(host=MONGO_HOST)\n",
    "salary = client[MONGO_DB_NAME][SALARY]\n",
    "salary_2017 = client[MONGO_DB_NAME][SALARY_2017]\n",
    "\n",
    "# pipeline = [{\"$match\": {}},\n",
    "#             {\"$out\": SALARY_NEW_backup},\n",
    "#             ]\n",
    "# salary.aggregate(pipeline)\n",
    "\n",
    "import json\n",
    "a= list(salary_2017.aggregate([{'$match':{'cleanCompany':'Google Inc.','workLoc1State':'CA'}},\n",
    "                                {'$group':{'_id':'$workLoc1City','avgAmount':{'$avg':'$salary'}}},\n",
    "                               {'$project':{'titleDisplay':1,'avgAmount':1,'workLoc1City':1}}\n",
    "                                  ]))\n",
    "print a\n",
    "with open('City_by_Google.json', 'w') as w:\n",
    "    json.dump(a,w)\n",
    "import pandas as pd\n",
    "df = pd.read_json('City_by_Google.json')\n",
    "print df.sort_values('_id',ascending=False)"
   ]
  },
  {
   "cell_type": "code",
   "execution_count": null,
   "metadata": {
    "scrolled": false
   },
   "outputs": [],
   "source": [
    "import json\n",
    "a= list(salary_2017.aggregate([{'$match':{'titleDisplay':'Software Engineer','workLoc1State':'CA'}},\n",
    "                                {'$group':{'_id':{'titleDisplay':'$titleDisplay','workLoc1City':'$workLoc1City'},'avgAmount':{'$avg':'$salary'}}},\n",
    "                               {'$project':{'titleDisplay':1,'avgAmount':1,'titleDisplay':1,'workLoc1City':1}}\n",
    " \n",
    "                              ]))\n",
    "for x in a:\n",
    "    x['_id'] = x['_id']['titleDisplay']+ ','+x['_id']['workLoc1City']\n",
    "\n",
    "\n",
    "with open('Title_by_Apple.json', 'w') as w:\n",
    "    json.dump(a,w)\n",
    "import pandas as pd\n",
    "df = pd.read_json('Title_by_Apple.json')\n",
    "print df.sort_values('avgAmount',ascending=False)"
   ]
  },
  {
   "cell_type": "code",
   "execution_count": null,
   "metadata": {},
   "outputs": [],
   "source": [
    "import json\n",
    "a= list(salary_2017.aggregate([{'$match':{'titleDisplay':'Software Engineer','workLoc1State':'CA'}},\n",
    "                                {'$group':{'_id':'$titleDisplay','avgAmount':{'$avg':'$salary'}}},\n",
    "                               {'$project':{'workLoc1City':1,'avgAmount':1}}\n",
    "                                  ]))\n",
    "print a\n",
    "with open('City_by_Google.json', 'w') as w:\n",
    "    json.dump(a,w)\n",
    "import pandas as pd\n",
    "df = pd.read_json('City_by_Google.json')\n",
    "print df.sort_values('_id',ascending=False)"
   ]
  },
  {
   "cell_type": "code",
   "execution_count": null,
   "metadata": {},
   "outputs": [],
   "source": []
  }
 ],
 "metadata": {
  "kernelspec": {
   "display_name": "Python 2",
   "language": "python",
   "name": "python2"
  },
  "language_info": {
   "codemirror_mode": {
    "name": "ipython",
    "version": 2
   },
   "file_extension": ".py",
   "mimetype": "text/x-python",
   "name": "python",
   "nbconvert_exporter": "python",
   "pygments_lexer": "ipython2",
   "version": "2.7.12"
  }
 },
 "nbformat": 4,
 "nbformat_minor": 2
}
