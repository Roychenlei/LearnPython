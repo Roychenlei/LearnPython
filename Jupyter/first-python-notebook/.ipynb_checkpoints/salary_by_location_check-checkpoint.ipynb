{
 "cells": [
  {
   "cell_type": "code",
   "execution_count": null,
   "metadata": {},
   "outputs": [],
   "source": [
    "import pymongo\n",
    "import json\n",
    "import pandas as pd\n",
    "from pymongo import MongoClient\n",
    "client = MongoClient(host='mongodb1.dev.zippia.com')\n",
    "client1 = MongoClient(host='localhost')\n",
    "salary_by_location = client['zippia']['salary_by_location']\n",
    "salary_by_location_old = client1['zippia']['salary_by_location']\n",
    "salary_new = client['zippia']['salary']\n",
    "salary_old = client1['zippia']['sly_lo']"
   ]
  },
  {
   "cell_type": "code",
   "execution_count": null,
   "metadata": {
    "scrolled": true
   },
   "outputs": [],
   "source": [
    "a= list(salary_new.find({'titleDisplay':'Computer Systems Administrator','isOutlier':0},{'caseId':1}))\n",
    "for r in a:\n",
    "    r['_id'] = None\n",
    "# with open('ComputerSystemsAdminstrator_new.json','w')as w:\n",
    "#     json.dump(a,w)\n",
    "# df = pd.read_json('ComputerSystemsAdminstrator.json')\n",
    "# print df.sort_values('caseId',ascending=False)\n",
    "\n",
    "b= list(salary_old.find({'titleDisplay':'Computer Systems Administrator','isOutlier':0},{'caseId':1}))\n",
    "for r in a:\n",
    "    r['_id'] = None\n",
    "# with open('ComputerSystemsAdminstrator_old.json','w')as w:\n",
    "#     json.dump(b,w)\n",
    "# df = pd.read_json('ComputerSystemsAdminstrator_old.json')\n",
    "# print df.sort_values('caseId',ascending=False)\n",
    "\n",
    "print b"
   ]
  },
  {
   "cell_type": "code",
   "execution_count": null,
   "metadata": {},
   "outputs": [],
   "source": [
    "i = 0\n",
    "for old in b:\n",
    "    for new in a:\n",
    "        i += 1\n",
    "        if old['caseId'] == new['caseId']:\n",
    "            break\n",
    "        else:\n",
    "            print new['caseId']"
   ]
  },
  {
   "cell_type": "code",
   "execution_count": null,
   "metadata": {},
   "outputs": [],
   "source": [
    "with open('ComputerSystemsAdminstrator.json','w')as w:\n",
    "    json.dump(a,w)"
   ]
  },
  {
   "cell_type": "code",
   "execution_count": null,
   "metadata": {},
   "outputs": [],
   "source": [
    "computer_new = list(salary_new.find({'titleDisplay':'Computer Systems Administrator','isOutlier':0},{'caseId':1}))\n",
    "for r in computer_new:\n",
    "    r['_id'] = None\n",
    "with open('ComputerSystemsAdminstrator_new.json','w')as w:\n",
    "    json.dump(a,w)\n",
    "# df = pd.read_json('ComputerSystemsAdminstrator.json')"
   ]
  },
  {
   "cell_type": "code",
   "execution_count": null,
   "metadata": {},
   "outputs": [],
   "source": [
    "computer_old = list(salary_old.find({'titleDisplay':'Computer Systems Administrator','isOutlier':0},{'caseId':1}))\n",
    "\n",
    "\n",
    "for r in computer_old:\n",
    "    r['_id'] = None\n",
    "\n",
    "with open('ComputerSystemsAdminstrator_old.json','w')as w:\n",
    "    json.dump(computer_old,w)\n",
    "# df = pd.read_json('ComputerSystemsAdminstrator_old.json')\n",
    "# print df.sort_values('caseId',ascending=False)"
   ]
  },
  {
   "cell_type": "code",
   "execution_count": null,
   "metadata": {},
   "outputs": [],
   "source": [
    "x = set([x['caseId']for x in computer_new]).difference (set([x['caseId']for x in computer_old]))\n",
    "x = list(x)\n",
    "with open('ComputerSystemsAdminstrator.json','w') as w:\n",
    "    json.dump(x,w)\n"
   ]
  },
  {
   "cell_type": "code",
   "execution_count": null,
   "metadata": {},
   "outputs": [],
   "source": [
    "import pymongo\n",
    "import json\n",
    "import pandas as pd\n",
    "from pymongo import MongoClient\n",
    "client = MongoClient(host='mongodb1.dev.zippia.com')\n",
    "client1 = MongoClient(host='localhost')\n",
    "salary_by_location = client['zippia']['salary_by_location']\n",
    "salary_by_location_old = client1['zippia']['salary_by_location']\n",
    "salary_new = client['zippia']['salary']\n",
    "salary_old = client1['zippia']['sly_lo']\n",
    "\n",
    "computer_new = list(salary_new.find({'titleDisplay':'Computer Systems Administrator','isOutlier':0},{'caseId':1}))\n",
    "print len(computer_new)\n",
    "for r in computer_new:\n",
    "    r['_id'] = None\n",
    "with open('ComputerSystemsAdminstrator_new.json','w')as w:\n",
    "    json.dump(a,w)\n",
    "\n",
    "\n",
    "computer_old = list(salary_old.find({'titleDisplay':'Computer Systems Administrator','isOutlier':0},{'caseId':1}))\n",
    "print len(computer_old)\n",
    "for r in computer_old:\n",
    "    r['_id'] = None\n",
    "with open('ComputerSystemsAdminstrator_old.json','w')as w:\n",
    "    json.dump(computer_old,w)\n",
    "\n",
    "\n",
    "x = set([x['caseId']for x in computer_new]).difference (set([x['caseId']for x in computer_old]))\n",
    "x = list(x)\n",
    "print len(x)\n",
    "with open('/home/chenlei/ENV/data/ComputerSystemsAdminstrator.json','w') as w:\n",
    "    json.dump(x,w)"
   ]
  },
  {
   "cell_type": "code",
   "execution_count": null,
   "metadata": {},
   "outputs": [],
   "source": [
    "computer_new = list(salary_new.find({'titleDisplay':'Accountant','isOutlier':0},{'caseId':1}))\n",
    "print len(computer_new)\n",
    "for r in computer_new:\n",
    "    r['_id'] = None\n",
    "with open('Accountant_new.json','w')as w:\n",
    "    json.dump(a,w)\n",
    "\n",
    "\n",
    "computer_old = list(salary_old.find({'titleDisplay':'Accountant','isOutlier':0},{'caseId':1}))\n",
    "print len(computer_old)\n",
    "for r in computer_old:\n",
    "    r['_id'] = None\n",
    "with open('Accountant_old.json','w')as w:\n",
    "    json.dump(computer_old,w)\n",
    "\n",
    "\n",
    "x = set([x['caseId']for x in computer_new]).difference (set([x['caseId']for x in computer_old]))\n",
    "x = list(x)\n",
    "print len(x)\n",
    "with open('/home/chenlei/ENV/data/Accountant.json','w') as w:\n",
    "    json.dump(x,w)"
   ]
  },
  {
   "cell_type": "code",
   "execution_count": null,
   "metadata": {},
   "outputs": [],
   "source": [
    "computer_new = list(salary_new.find({'titleDisplay':'Graphic Designer','isOutlier':0},{'caseId':1}))\n",
    "print len(computer_new)\n",
    "for r in computer_new:\n",
    "    r['_id'] = None\n",
    "with open('Graphic Designer_new.json','w')as w:\n",
    "    json.dump(a,w)\n",
    "\n",
    "\n",
    "computer_old = list(salary_old.find({'titleDisplay':'Graphic Designer','isOutlier':0},{'caseId':1}))\n",
    "print len(computer_old)\n",
    "for r in computer_old:\n",
    "    r['_id'] = None\n",
    "with open('Graphic Designer_old.json','w')as w:\n",
    "    json.dump(computer_old,w)\n",
    "\n",
    "\n",
    "x = set([x['caseId']for x in computer_new]).difference (set([x['caseId']for x in computer_old]))\n",
    "x = list(x)\n",
    "print len(x)\n",
    "with open('/home/chenlei/ENV/data/GraphicDesigner.json','w') as w:\n",
    "    json.dump(x,w)"
   ]
  },
  {
   "cell_type": "code",
   "execution_count": null,
   "metadata": {},
   "outputs": [],
   "source": [
    "computer_new = list(salary_new.find({'titleDisplay':'Investment Analyst','isOutlier':0},{'caseId':1}))\n",
    "print len(computer_new)\n",
    "for r in computer_new:\n",
    "    r['_id'] = None\n",
    "with open('InvestmentAnalyst.json','w')as w:\n",
    "    json.dump(a,w)\n",
    "\n",
    "\n",
    "computer_old = list(salary_old.find({'titleDisplay':'Investment Analyst','isOutlier':0},{'caseId':1}))\n",
    "print len(computer_old)\n",
    "for r in computer_old:\n",
    "    r['_id'] = None\n",
    "with open('InvestmentAnalyst.json','w')as w:\n",
    "    json.dump(computer_old,w)\n",
    "\n",
    "\n",
    "x = set([x['caseId']for x in computer_new]).difference (set([x['caseId']for x in computer_old]))\n",
    "x = list(x)\n",
    "print len(x)\n",
    "with open('/home/chenlei/ENV/data/InvestmentAnalyst.json','w') as w:\n",
    "    json.dump(x,w)"
   ]
  },
  {
   "cell_type": "code",
   "execution_count": null,
   "metadata": {},
   "outputs": [],
   "source": [
    "computer_new = list(salary_new.find({'titleDisplay':'Data Analyst','isOutlier':0},{'caseId':1}))\n",
    "print len(computer_new)\n",
    "for r in computer_new:\n",
    "    r['_id'] = None\n",
    "with open('Data Analyst.json','w')as w:\n",
    "    json.dump(a,w)\n",
    "\n",
    "\n",
    "computer_old = list(salary_old.find({'titleDisplay':'Data Analyst','isOutlier':0},{'caseId':1}))\n",
    "print len(computer_old)\n",
    "for r in computer_old:\n",
    "    r['_id'] = None\n",
    "with open('Data Analyst_old.json','w')as w:\n",
    "    json.dump(computer_old,w)\n",
    "\n",
    "\n",
    "x = set([x['caseId']for x in computer_new]).difference (set([x['caseId']for x in computer_old]))\n",
    "x = list(x)\n",
    "print len(x)\n",
    "with open('/home/chenlei/ENV/data/DataAnalyst.json','w') as w:\n",
    "    json.dump(x,w)"
   ]
  },
  {
   "cell_type": "code",
   "execution_count": null,
   "metadata": {},
   "outputs": [],
   "source": [
    "import json\n",
    "a= list(salary_by_location.aggregate([\n",
    "                                {'$group':{'_id':'$loc_type','avgAmount':{'$avg':'$salary'}}},\n",
    "                               {'$project':{'loc_type':1,'avgAmount':1}}\n",
    "                                  ]))\n",
    "\n",
    "with open('City_by_salary.json', 'w') as w:\n",
    "    json.dump(a,w)\n",
    "import pandas as pd\n",
    "df = pd.read_json('City_by_salary.json')\n",
    "print df.sort_values('avgAmount',ascending=False)"
   ]
  },
  {
   "cell_type": "code",
   "execution_count": null,
   "metadata": {},
   "outputs": [],
   "source": [
    "import json\n",
    "a= list(salary_by_location_new.aggregate([\n",
    "                                {'$group':{'_id':'$loc_type','avgAmount':{'$avg':'$salary'}}},\n",
    "                               {'$project':{'loc_type':1,'avgAmount':1}}\n",
    "                                  ]))\n",
    "\n",
    "with open('City_by_salary.json', 'w') as w:\n",
    "    json.dump(a,w)\n",
    "import pandas as pd\n",
    "df = pd.read_json('City_by_salary.json')\n",
    "print df.sort_values('avgAmount',ascending=False)"
   ]
  },
  {
   "cell_type": "code",
   "execution_count": null,
   "metadata": {},
   "outputs": [],
   "source": [
    "import json\n",
    "a= list(salary_by_location_new.aggregate([{'$match':{'loc_name':'New York__NY'}},\n",
    "                                {'$group':{'_id':'$loc_name','avgAmount':{'$avg':'$salary'}}},\n",
    "                               {'$project':{'loc_name':1,'avgAmount':1}}\n",
    "                                  ]))\n",
    "\n",
    "with open('CA_salary.json', 'w') as w:\n",
    "    json.dump(a,w)\n",
    "import pandas as pd\n",
    "df = pd.read_json('CA_salary.json')\n",
    "print df.sort_values('avgAmount',ascending=False)"
   ]
  },
  {
   "cell_type": "code",
   "execution_count": null,
   "metadata": {},
   "outputs": [],
   "source": [
    "import json\n",
    "a= list(salary_by_location.aggregate([{'$match':{'loc_name':'New York__NY'}},\n",
    "                                {'$group':{'_id':'$loc_name','avgAmount':{'$avg':'$salary'}}},\n",
    "                               {'$project':{'loc_name':1,'avgAmount':1}}\n",
    "                                  ]))\n",
    "print a\n",
    "with open('CA_salary1.json', 'w') as w:\n",
    "    json.dump(a,w)\n",
    "import pandas as pd\n",
    "df = pd.read_json('CA_salary1.json')\n",
    "print df.sort_values('avgAmount',ascending=False)"
   ]
  },
  {
   "cell_type": "code",
   "execution_count": null,
   "metadata": {},
   "outputs": [],
   "source": [
    "a= list(salary_by_location.aggregate(\n",
    "                                [\n",
    "                                     {\n",
    "                                       '$match':{\n",
    "                                           'loc_name':'CA'\n",
    "                                       } \n",
    "                                    },\n",
    "                                    {'$group':\n",
    "                                        {\n",
    "                                         '_id':\"$loc_name\",\n",
    "                                         'count':{'$sum':1}\n",
    "                                        }\n",
    "                                    }\n",
    "                                ]\n",
    "                                )\n",
    "       )\n",
    "print a\n",
    "with open('count.json', 'w') as w:\n",
    "    json.dump(a,w)\n",
    "import pandas as pd\n",
    "df = pd.read_json('count.json')\n",
    "print df.sort_values('count',ascending=False)"
   ]
  },
  {
   "cell_type": "code",
   "execution_count": null,
   "metadata": {},
   "outputs": [],
   "source": [
    "a= list(salary_by_location_new.aggregate([\n",
    "                                    {\n",
    "                                       '$match':{\n",
    "                                           'loc_name':'CA'\n",
    "                                       } \n",
    "                                    },\n",
    "                                    {\n",
    "                                        '$group':\n",
    "                                        {\n",
    "                                         '_id':\"$loc_name\",\n",
    "                                         'count':{'$sum':1}\n",
    "                                        }\n",
    "                                    }\n",
    "                                ]\n",
    "                                )\n",
    "       )\n",
    "print a\n",
    "with open('count.json', 'w') as w:\n",
    "    json.dump(a,w)\n",
    "import pandas as pd\n",
    "df = pd.read_json('count.json')\n",
    "print df.sort_values('count',ascending=False)"
   ]
  },
  {
   "cell_type": "code",
   "execution_count": null,
   "metadata": {},
   "outputs": [],
   "source": [
    "a= list(salary_by_location_new.aggregate([\n",
    "                                    {\n",
    "                                       '$match':{\n",
    "                                           'value':'Computer Systems Administrator'\n",
    "                                       } \n",
    "                                    },\n",
    "                                    {\n",
    "                                        '$group':\n",
    "                                        {\n",
    "                                         '_id':\"$salary\",\n",
    "                                         'count':{'$sum':1}\n",
    "                                        }\n",
    "                                    }\n",
    "                                ]\n",
    "                                )\n",
    "       )\n",
    "with open('count.json', 'w') as w:\n",
    "    json.dump(a,w)\n",
    "import pandas as pd\n",
    "df = pd.read_json('count.json')\n",
    "print df.sort_values('count',ascending=False)"
   ]
  },
  {
   "cell_type": "code",
   "execution_count": null,
   "metadata": {},
   "outputs": [],
   "source": [
    "a= list(salary_by_location.aggregate([\n",
    "                                    {\n",
    "                                       '$match':{\n",
    "                                           'value':'Computer Systems Administrator'\n",
    "                                       } \n",
    "                                    },\n",
    "                                    {\n",
    "                                        '$group':\n",
    "                                        {\n",
    "                                         '_id':\"$salary\",\n",
    "                                         'count':{'$sum':1}\n",
    "                                        }\n",
    "                                    }\n",
    "                                ]\n",
    "                                )\n",
    "       )\n",
    "with open('count.json', 'w') as w:\n",
    "    json.dump(a,w)\n",
    "import pandas as pd\n",
    "df = pd.read_json('count.json')\n",
    "print df.sort_values('count',ascending=False)"
   ]
  },
  {
   "cell_type": "code",
   "execution_count": null,
   "metadata": {},
   "outputs": [],
   "source": [
    "import json\n",
    "a= list(salary_by_location.aggregate([{'$match':{'value':'Supply Chain Development Manager'}},\n",
    "                                           {'$project':{'loc_name':1,'salary':1,'total_salary_records':1}}\n",
    "                                  ]))\n",
    "for x in a:\n",
    "    x['_id'] = None\n",
    "with open('title.json', 'w') as w:\n",
    "    json.dump(a,w)\n",
    "import pandas as pd\n",
    "df = pd.read_json('title.json')\n",
    "print df.sort_values('salary',ascending=False)"
   ]
  },
  {
   "cell_type": "code",
   "execution_count": null,
   "metadata": {},
   "outputs": [],
   "source": [
    "import json\n",
    "a= list(salary_by_location.aggregate([{'$match':{'value':'Survey Researcher','loc_name':'New York__NY'}},\n",
    "                                           {'$project':{'loc_name':1,'salary':1,'total_salary_records':1}}\n",
    "                                  ]))\n",
    "for x in a:\n",
    "    x['_id'] = None\n",
    "with open('title.json', 'w') as w:\n",
    "    json.dump(a,w)\n",
    "import pandas as pd\n",
    "df = pd.read_json('title.json')\n",
    "print df.sort_values('salary',ascending=False)\n",
    "\n",
    "a= list(salary_by_location_new.aggregate([{'$match':{'value':'Survey Researcher','loc_name':'New York__NY'}},\n",
    "                                           {'$project':{'loc_name':1,'salary':1,'total_salary_records':1}}\n",
    "                                  ]))\n",
    "for x in a:\n",
    "    x['_id'] = None\n",
    "with open('title.json', 'w') as w:\n",
    "    json.dump(a,w)\n",
    "import pandas as pd\n",
    "df = pd.read_json('title.json')\n",
    "print df.sort_values('salary',ascending=False)"
   ]
  },
  {
   "cell_type": "code",
   "execution_count": null,
   "metadata": {},
   "outputs": [],
   "source": [
    "a =list(salary_by_location_new.find({'value':'Computer Systems Administrator'}))\n",
    "print a\n",
    "with open('title.json', 'w') as w:\n",
    "    json.dump(a,w)\n",
    "import pandas as pd\n",
    "df = pd.read_json('title.json')\n",
    "print df.sort_values('avgAmount',ascending=False)"
   ]
  },
  {
   "cell_type": "code",
   "execution_count": null,
   "metadata": {},
   "outputs": [],
   "source": []
  },
  {
   "cell_type": "code",
   "execution_count": null,
   "metadata": {},
   "outputs": [],
   "source": [
    "import pymongo\n",
    "from pymongo import MongoClient\n",
    "client = MongoClient(host='mongodb1.dev.zippia.com')\n",
    "client1 = MongoClient(host='localhost')\n",
    "salary_by_location = client['zippia']['salary_by_location']\n",
    "salary_by_location_old = client1['zippia']['salary_by_location']"
   ]
  },
  {
   "cell_type": "code",
   "execution_count": null,
   "metadata": {},
   "outputs": [],
   "source": [
    "salary_by_location.count({})\n",
    "salary_by_location_old({})"
   ]
  },
  {
   "cell_type": "code",
   "execution_count": null,
   "metadata": {},
   "outputs": [],
   "source": []
  },
  {
   "cell_type": "code",
   "execution_count": null,
   "metadata": {},
   "outputs": [],
   "source": [
    "a = list(salary_by_location_old.find({'loc_name':{'$in':['CA','WA','MA','NY','FL']},\n",
    "                                              'value':{'$in':['Accountant','Computer Systems Administrator','Partner',\n",
    "                                                               'Investment Analyst',\n",
    "                                                               'Graphic Designer','Data Analyst',\"Chief Scientific Officer\",\n",
    "                                                  \"Investor\"]}},{'salary':1,'total_salary_records':1,'loc_name':1,'value':1}))\n",
    "\n",
    "\n",
    "for x in a:\n",
    "    x['_id'] = None\n",
    "    x['salary'] = int(x['salary'])\n",
    "with open('title.json', 'w') as w:\n",
    "    json.dump(a,w)\n",
    "import pandas as pd\n",
    "df = pd.read_json('title.json')\n",
    "print df\n"
   ]
  }
 ],
 "metadata": {
  "kernelspec": {
   "display_name": "Python 2",
   "language": "python",
   "name": "python2"
  },
  "language_info": {
   "codemirror_mode": {
    "name": "ipython",
    "version": 2
   },
   "file_extension": ".py",
   "mimetype": "text/x-python",
   "name": "python",
   "nbconvert_exporter": "python",
   "pygments_lexer": "ipython2",
   "version": "2.7.12"
  }
 },
 "nbformat": 4,
 "nbformat_minor": 2
}
