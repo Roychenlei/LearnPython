{
 "cells": [
  {
   "cell_type": "code",
   "execution_count": null,
   "metadata": {
    "collapsed": true
   },
   "outputs": [],
   "source": [
    "##Looping over a range of numbers\n",
    "for i in range(6):\n",
    "    print(i**2)"
   ]
  },
  {
   "cell_type": "code",
   "execution_count": null,
   "metadata": {
    "collapsed": true
   },
   "outputs": [],
   "source": [
    "##Looping over a collection\n",
    "colors = ['red', 'green', 'blue', 'yellow']\n",
    "for color in colors:\n",
    "    print (color)"
   ]
  },
  {
   "cell_type": "code",
   "execution_count": null,
   "metadata": {
    "collapsed": true
   },
   "outputs": [],
   "source": [
    "##Looping over a collection\n",
    "for i in range(len(colors)):\n",
    "    print (colors[i])"
   ]
  },
  {
   "cell_type": "code",
   "execution_count": null,
   "metadata": {
    "collapsed": true
   },
   "outputs": [],
   "source": [
    "##Looping backwards\n",
    "for color in reversed(colors):\n",
    "    print(color)"
   ]
  },
  {
   "cell_type": "code",
   "execution_count": null,
   "metadata": {
    "collapsed": true
   },
   "outputs": [],
   "source": [
    "##Looping over a collection and indices\n",
    "for i, color in enumerate(colors):\n",
    "    print(i, '-->', color)"
   ]
  },
  {
   "cell_type": "code",
   "execution_count": null,
   "metadata": {
    "collapsed": true
   },
   "outputs": [],
   "source": [
    "##Looping over two collections\n",
    "names = ['raymond', 'rachel', 'matthew']\n",
    "colors = ['red', 'green', 'blue', 'yellow']\n",
    "\n",
    "for name, color in zip(names, colors):\n",
    "    print(name,'-->','color')\n",
    "    "
   ]
  },
  {
   "cell_type": "code",
   "execution_count": null,
   "metadata": {
    "collapsed": true
   },
   "outputs": [],
   "source": [
    "##Looping in sorted order\n",
    "colors = ['red', 'green', 'blue', 'yellow']\n",
    "\n",
    "for color in sorted(colors):\n",
    "    print(color)\n",
    "for color in sorted(colors, reverse=True):\n",
    "    print(color)"
   ]
  },
  {
   "cell_type": "code",
   "execution_count": null,
   "metadata": {
    "collapsed": true
   },
   "outputs": [],
   "source": [
    "##Custom Sort Order\n",
    "print(sorted(colors, key=len))"
   ]
  },
  {
   "cell_type": "code",
   "execution_count": null,
   "metadata": {
    "collapsed": true
   },
   "outputs": [],
   "source": [
    "##Call a function until a sentinel value\n",
    "blocks = []\n",
    "while True:\n",
    "    block = f.read(32)\n",
    "    if block == '':\n",
    "        break\n",
    "    blocks.apeend(block)\n",
    "    \n",
    "##Better\n",
    "blocks=[]\n",
    "for block in iter(partial(f.read, 32),''):\n",
    "    blocks.append(block)"
   ]
  },
  {
   "cell_type": "code",
   "execution_count": 18,
   "metadata": {
    "collapsed": true
   },
   "outputs": [],
   "source": [
    "##Distinguishing multiple exit points in loops\n",
    "def find(seq, target):\n",
    "    found = False\n",
    "    for i, value in enumerate(seq):\n",
    "        if value == target:\n",
    "            found =True\n",
    "            break\n",
    "    if not found:\n",
    "        return -1\n",
    "    return i\n",
    "\n",
    "\n",
    "## Better\n",
    "def find(seq, target):\n",
    "    for i, value in enumerate(seq):\n",
    "        if value == target:\n",
    "            break\n",
    "    else:    ##Inside of every for loop is an else.\n",
    "        return -1\n",
    "    return i"
   ]
  },
  {
   "cell_type": "code",
   "execution_count": null,
   "metadata": {
    "collapsed": true
   },
   "outputs": [],
   "source": [
    "##Looping over dictionary keys\n",
    "d = {'matthew': 'blue', 'rachel': 'green', 'raymond': 'red'} \n",
    "for k in d:\n",
    "    print(k) \n",
    "for k in d:\n",
    "    print(k,'-->',d[k])\n",
    "    \n",
    "for k, v in d.items(): ## Makes a hug list\n",
    "    print(k,'-->',v)"
   ]
  },
  {
   "cell_type": "code",
   "execution_count": 27,
   "metadata": {
    "collapsed": true
   },
   "outputs": [],
   "source": [
    "##Construct a dictionary from pairs\n",
    "names = ['raymond', 'rachel', 'matthew']\n",
    "colors = ['red', 'green', 'blue']\n",
    "\n",
    "d = dict(zip(names, colors))\n"
   ]
  },
  {
   "cell_type": "code",
   "execution_count": 36,
   "metadata": {
    "collapsed": true
   },
   "outputs": [],
   "source": [
    "##Counting with dictionaries\n",
    "colors = ['red', 'green', 'red', 'blue', 'green', 'red']\n",
    "d = {}\n",
    "for color in colors:\n",
    "    if color not in d:\n",
    "        d[color] = 0\n",
    "    d[color] +=1\n",
    "##Better\n",
    "x = {}\n",
    "for color in colors:\n",
    "    x[color] = x.get(color,0) + 1\n"
   ]
  },
  {
   "cell_type": "code",
   "execution_count": 4,
   "metadata": {
    "collapsed": true
   },
   "outputs": [],
   "source": [
    "##Grouping with dictionaries\n",
    "names = ['raymond', 'rachel', 'matthew', 'roger',\n",
    "         'betty', 'melissa', 'judith', 'charlie']\n",
    "##group by name,length\n",
    "d = {}\n",
    "for name in names:\n",
    "    key = len(name)\n",
    "    if key not in d:\n",
    "        d[key] = []\n",
    "    d[key].append(name)\n",
    "\n",
    "x = {}\n",
    "for name in names:\n",
    "    key = len(name)\n",
    "    x.setdefault(key,[]).append(name)\n",
    "    \n",
    "##Better\n",
    "from collections import defaultdict\n",
    "d = defaultdict(list)\n",
    "for name in names:\n",
    "    key = len(name)\n",
    "    d[key].append(name)\n"
   ]
  },
  {
   "cell_type": "code",
   "execution_count": null,
   "metadata": {},
   "outputs": [],
   "source": [
    "##Is a dictionary popitem() atomic?\n",
    "d = {'matthew': 'blue', 'rachel': 'green', 'raymond': 'red'}\n",
    "while d:\n",
    "    key,value = d.popitem()\n",
    "    print(key,'-->',value)\n"
   ]
  },
  {
   "cell_type": "code",
   "execution_count": null,
   "metadata": {},
   "outputs": [],
   "source": [
    "##List Comprehensions and Generator Expressions\n",
    "result = []\n",
    "for i in range(10):\n",
    "    s = i**2\n",
    "    result.append(s)\n",
    "print(sum(result))\n",
    "\n",
    "##Better\n",
    "print(sum(i**2 for i in range(10)))"
   ]
  },
  {
   "cell_type": "code",
   "execution_count": null,
   "metadata": {
    "collapsed": true
   },
   "outputs": [],
   "source": [
    "##How to open and close files\n",
    "f = open('data.txt')\n",
    "try:\n",
    "    data = f.read()\n",
    "finally:\n",
    "    f.close()\n",
    "\n",
    "## Better\n",
    "with open('data.txt') as f:\n",
    "    data = f.read()"
   ]
  },
  {
   "cell_type": "code",
   "execution_count": 18,
   "metadata": {},
   "outputs": [],
   "source": [
    "##Using decorators to factor-out administrative logic\n",
    "def web_lookup(url, saved={}):\n",
    "    if url in saved:\n",
    "        return saved[url]\n",
    "    page = urllib.urlopen(url).read()\n",
    "    saved[url] = page\n",
    "    return page\n",
    "\n",
    "##Better\n",
    "def cache(*arg):\n",
    "    pass\n",
    "\n",
    "@cache\n",
    "def web_lookup(url):\n",
    "    return urllib.urlopen(url).read()\n"
   ]
  },
  {
   "cell_type": "code",
   "execution_count": 32,
   "metadata": {},
   "outputs": [
    {
     "name": "stdout",
     "output_type": "stream",
     "text": [
      "raymond,rachel,matthew,roger,betty,melissa,judith,charlie\n",
      "raymond,rachel,matthew,roger,betty,melissa,judith,charlie\n"
     ]
    }
   ],
   "source": [
    "##Concatenating strings\n",
    "names = ['raymond', 'rachel', 'matthew', 'roger',\n",
    "         'betty', 'melissa', 'judith', 'charlie']\n",
    "\n",
    "\n",
    "s = names[0]\n",
    "for name in names[1:]:\n",
    "    s += ','+name\n",
    "print(s)\n",
    "##Better\n",
    "print(','.join(names))"
   ]
  }
 ],
 "metadata": {
  "kernelspec": {
   "display_name": "Python 3",
   "language": "python",
   "name": "python3"
  },
  "language_info": {
   "codemirror_mode": {
    "name": "ipython",
    "version": 3
   },
   "file_extension": ".py",
   "mimetype": "text/x-python",
   "name": "python",
   "nbconvert_exporter": "python",
   "pygments_lexer": "ipython3",
   "version": "3.6.0"
  }
 },
 "nbformat": 4,
 "nbformat_minor": 2
}
