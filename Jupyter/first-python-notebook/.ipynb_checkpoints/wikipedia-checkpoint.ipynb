{
 "cells": [
  {
   "cell_type": "code",
   "execution_count": 5,
   "metadata": {},
   "outputs": [],
   "source": [
    "import pymongo\n",
    "import os\n",
    "from pymongo import MongoClient\n",
    "client = MongoClient(host ='datascience1.dev.zippia.com')\n",
    "original = client['zippia_187_2']['wikipedia_origianl']\n",
    "parse = client['zippia_187_2']['wikipedia_parsed']\n",
    "parse_4 = client['zippia_187_2']['wikipedia_parsed_4']\n",
    "cleansed = client['zippia_187_2']['wikipedia_cleansed']\n",
    "cleansed_4 = client['zippia_187_2']['wikipedia_cleansed_4']"
   ]
  },
  {
   "cell_type": "code",
   "execution_count": 7,
   "metadata": {},
   "outputs": [
    {
     "name": "stdout",
     "output_type": "stream",
     "text": [
      "8053\n",
      "0\n"
     ]
    }
   ],
   "source": [
    "print parse.count({'matched':1})\n",
    "print parse_4.count({'matched':1})\n",
    "\n",
    "print cleansed.count({'matched':1})\n",
    "print cleansed_4.count({'matched':1})"
   ]
  },
  {
   "cell_type": "code",
   "execution_count": null,
   "metadata": {},
   "outputs": [],
   "source": []
  }
 ],
 "metadata": {
  "kernelspec": {
   "display_name": "Python 2",
   "language": "python",
   "name": "python2"
  },
  "language_info": {
   "codemirror_mode": {
    "name": "ipython",
    "version": 2
   },
   "file_extension": ".py",
   "mimetype": "text/x-python",
   "name": "python",
   "nbconvert_exporter": "python",
   "pygments_lexer": "ipython2",
   "version": "2.7.12"
  }
 },
 "nbformat": 4,
 "nbformat_minor": 2
}
