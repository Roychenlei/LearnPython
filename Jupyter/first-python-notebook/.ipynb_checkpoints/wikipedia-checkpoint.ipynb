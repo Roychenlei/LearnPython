{
 "cells": [
  {
   "cell_type": "code",
   "execution_count": 5,
<<<<<<< HEAD
   "metadata": {
    "collapsed": true
   },
=======
   "metadata": {},
>>>>>>> c755619906fcd9f5c54f09f1fac543a00dac03a3
   "outputs": [],
   "source": [
    "import pymongo\n",
    "import os\n",
    "from pymongo import MongoClient\n",
    "client = MongoClient(host ='datascience1.dev.zippia.com')\n",
<<<<<<< HEAD
    "parse = client['zippia_187_2']['wikipedia_parsed']\n",
    "original = client['zippia_187_2']['wikipedia_origianl']"
=======
    "original = client['zippia_187_2']['wikipedia_origianl']\n",
    "parse = client['zippia_187_2']['wikipedia_parsed']\n",
    "parse_4 = client['zippia_187_2']['wikipedia_parsed_4']\n",
    "cleansed = client['zippia_187_2']['wikipedia_cleansed']\n",
    "cleansed_4 = client['zippia_187_2']['wikipedia_cleansed_4']"
>>>>>>> c755619906fcd9f5c54f09f1fac543a00dac03a3
   ]
  },
  {
   "cell_type": "code",
   "execution_count": 7,
   "metadata": {},
   "outputs": [
    {
     "name": "stdout",
     "output_type": "stream",
     "text": [
      "8053\n",
      "0\n"
     ]
    }
   ],
   "source": [
    "print parse.count({'matched':1})\n",
<<<<<<< HEAD
    "print original.count({})"
=======
    "print parse_4.count({'matched':1})\n",
    "\n",
    "print cleansed.count({'matched':1})\n",
    "print cleansed_4.count({'matched':1})"
>>>>>>> c755619906fcd9f5c54f09f1fac543a00dac03a3
   ]
  },
  {
   "cell_type": "code",
   "execution_count": null,
<<<<<<< HEAD
   "metadata": {
    "collapsed": true
   },
=======
   "metadata": {},
>>>>>>> c755619906fcd9f5c54f09f1fac543a00dac03a3
   "outputs": [],
   "source": []
  }
 ],
 "metadata": {
  "kernelspec": {
<<<<<<< HEAD
   "display_name": "Python 3",
   "language": "python",
   "name": "python3"
=======
   "display_name": "Python 2",
   "language": "python",
   "name": "python2"
>>>>>>> c755619906fcd9f5c54f09f1fac543a00dac03a3
  },
  "language_info": {
   "codemirror_mode": {
    "name": "ipython",
<<<<<<< HEAD
    "version": 3
=======
    "version": 2
>>>>>>> c755619906fcd9f5c54f09f1fac543a00dac03a3
   },
   "file_extension": ".py",
   "mimetype": "text/x-python",
   "name": "python",
   "nbconvert_exporter": "python",
<<<<<<< HEAD
   "pygments_lexer": "ipython3",
   "version": "3.6.0"
=======
   "pygments_lexer": "ipython2",
   "version": "2.7.12"
>>>>>>> c755619906fcd9f5c54f09f1fac543a00dac03a3
  }
 },
 "nbformat": 4,
 "nbformat_minor": 2
}
