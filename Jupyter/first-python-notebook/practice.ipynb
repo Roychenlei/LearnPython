{
 "cells": [
  {
   "cell_type": "code",
   "execution_count": 2,
   "metadata": {},
   "outputs": [
    {
     "name": "stdout",
     "output_type": "stream",
     "text": [
      "33.9245\n",
      "-118.408056\n"
     ]
    }
   ],
   "source": [
    "lax_coordinates = (33.9245, -118.408056)\n",
    "latitude, longitude = lax_coordinates\n",
    "print latitude\n",
    "print longitude"
   ]
  },
  {
   "cell_type": "code",
   "execution_count": 5,
   "metadata": {},
   "outputs": [
    {
     "name": "stdout",
     "output_type": "stream",
     "text": [
      "4 3\n"
     ]
    }
   ],
   "source": [
    "a = 3 \n",
    "b = 4\n",
    "b, a = a, b\n",
    "print a, b"
   ]
  },
  {
   "cell_type": "code",
   "execution_count": 13,
   "metadata": {},
   "outputs": [
    {
     "name": "stdout",
     "output_type": "stream",
     "text": [
      "(2, 4)\n",
      "(2, 4)\n",
      "2 4\n"
     ]
    }
   ],
   "source": [
    "print divmod(20, 8)\n",
    "t =(20, 8)\n",
    "print divmod(*t)\n",
    "quotient, remainder = divmod(*t)\n",
    "print quotient, remainder"
   ]
  },
  {
   "cell_type": "code",
   "execution_count": 18,
   "metadata": {},
   "outputs": [
    {
     "data": {
      "text/plain": [
       "'id_rsa.pub'"
      ]
     },
     "execution_count": 18,
     "metadata": {},
     "output_type": "execute_result"
    }
   ],
   "source": [
    "import os\n",
    "_, filename = os.path.split('/home/chenelei/.ssh/id_rsa.pub')\n",
    "filename"
   ]
  },
  {
   "cell_type": "code",
   "execution_count": 31,
   "metadata": {},
   "outputs": [
    {
     "name": "stdout",
     "output_type": "stream",
     "text": [
      "               |  lat.   |  long. \n",
      "Mexico City    |  19.4333| -99.1333\n",
      "New York-Newark|  40.8086| -74.0204\n",
      "Sao Paulo      | -23.5478| -46.6358\n"
     ]
    }
   ],
   "source": [
    "metro_areas = [\n",
    "('Tokyo','JP',36.933,(35.689722,139.691667)), # ➊\n",
    "('Delhi NCR', 'IN', 21.935, (28.613889, 77.208889)),\n",
    "('Mexico City', 'MX', 20.142, (19.433333, -99.133333)),\n",
    "('New York-Newark', 'US', 20.104, (40.808611, -74.020386)),\n",
    "('Sao Paulo', 'BR', 19.649, (-23.547778, -46.635833)),\n",
    "]\n",
    "print('{:14} | {:^7} | {:^7}'.format('', 'lat.', 'long.'))\n",
    "fmt = '{:15}|{:9.4f}|{:9.4f}'\n",
    "for name, cc, pop, (latitude, longitude) in metro_areas: # ➋\n",
    "    if longitude <= 0: # ➌\n",
    "        print(fmt.format(name, latitude, longitude))\n"
   ]
  },
  {
   "cell_type": "code",
   "execution_count": null,
   "metadata": {},
   "outputs": [],
   "source": [
    "from collections import namedtuple\n",
    "Card = collections.namedtuple('Card', ['rank','suit'])\n"
   ]
  },
  {
   "cell_type": "code",
   "execution_count": 12,
   "metadata": {
    "scrolled": true
   },
   "outputs": [
    {
     "name": "stdout",
     "output_type": "stream",
     "text": [
      "[('A1Description', 1), ('A1Title', 1), ('A1Year', 1), ('A2Description', 1), ('A2Title', 1), ('A2Year', 1), ('A3Description', 1), ('A3Title', 1), ('A3Year', 1), ('A4Description', 1), ('A4Title', 1), ('A4Year', 1), ('A5Description', 1), ('A5Title', 1), ('A5Year', 1), ('AdditionalInformation', 1), ('City', 1), ('ContactName', 1), ('CoverLetterObjective', 1), ('CoverLetterParagraphs', 1), ('E1City', 1), ('E1Course', 1), ('E1DurationFrom', 1), ('E1DurationTo', 1), ('E1School_University', 1), ('E1State', 1), ('E2City', 1), ('E2Course', 1), ('E2DurationFrom', 1), ('E2DurationTo', 1), ('E2School_University', 1), ('E2State', 1), ('E3City', 1), ('E3Course', 1), ('E3DurationFrom', 1), ('E3DurationTo', 1), ('E3School_University', 1), ('E3State', 1), ('E4City', 1), ('E4Course', 1), ('E4DurationFrom', 1), ('E4DurationTo', 1), ('E4School_University', 1), ('E4State', 1), ('E5City', 1), ('E5Course', 1), ('E5DurationFrom', 1), ('E5DurationTo', 1), ('E5School_University', 1), ('E5State', 1), ('E6City', 1), ('E6Course', 1), ('E6DurationFrom', 1), ('E6DurationTo', 1), ('E6School_University', 1), ('E6State', 1), ('E7City', 1), ('E7Course', 1), ('E7DurationFrom', 1), ('E7DurationTo', 1), ('E7School_University', 1), ('E7State', 1), ('E8City', 1), ('E8Course', 1), ('E8DurationFrom', 1), ('E8DurationTo', 1), ('E8School_University', 1), ('E8State', 1), ('Link1', 1), ('Link2', 1), ('Link3', 1), ('Link4', 1), ('Link5', 1), ('Link6', 1), ('Link7', 1), ('Link8', 1), ('Skill', 1), ('SourceURL', 1), ('State', 1), ('VisaStatus', 1), ('W10City', 1), ('W10Description', 1), ('W10DurationFrom', 1), ('W10DurationTo', 1), ('W10Organization', 1), ('W10State', 1), ('W10Title', 1), ('W11City', 1), ('W11Description', 1), ('W11DurationFrom', 1), ('W11DurationTo', 1), ('W11Organization', 1), ('W11State', 1), ('W11Title', 1), ('W12City', 1), ('W12Description', 1), ('W12DurationFrom', 1), ('W12DurationTo', 1), ('W12Organization', 1), ('W12State', 1), ('W12Title', 1), ('W13City', 1), ('W13Description', 1), ('W13DurationFrom', 1), ('W13DurationTo', 1), ('W13Organization', 1), ('W13State', 1), ('W13Title', 1), ('W14City', 1), ('W14Description', 1), ('W14DurationFrom', 1), ('W14DurationTo', 1), ('W14Organization', 1), ('W14State', 1), ('W14Title', 1), ('W15City', 1), ('W15Description', 1), ('W15DurationFrom', 1), ('W15DurationTo', 1), ('W15Organization', 1), ('W15State', 1), ('W15Title', 1), ('W1City', 1), ('W1Description', 1), ('W1DurationFrom', 1), ('W1DurationTo', 1), ('W1Organization', 1), ('W1State', 1), ('W1Title', 1), ('W2City', 1), ('W2Description', 1), ('W2DurationFrom', 1), ('W2DurationTo', 1), ('W2Organization', 1), ('W2State', 1), ('W2Title', 1), ('W3City', 1), ('W3Description', 1), ('W3DurationFrom', 1), ('W3DurationTo', 1), ('W3Organization', 1), ('W3State', 1), ('W3Title', 1), ('W4City', 1), ('W4Description', 1), ('W4DurationFrom', 1), ('W4DurationTo', 1), ('W4Organization', 1), ('W4State', 1), ('W4Title', 1), ('W5City', 1), ('W5Description', 1), ('W5DurationFrom', 1), ('W5DurationTo', 1), ('W5Organization', 1), ('W5State', 1), ('W5Title', 1), ('W6City', 1), ('W6Description', 1), ('W6DurationFrom', 1), ('W6DurationTo', 1), ('W6Organization', 1), ('W6State', 1), ('W6Title', 1), ('W7City', 1), ('W7Description', 1), ('W7DurationFrom', 1), ('W7DurationTo', 1), ('W7Organization', 1), ('W7State', 1), ('W7Title', 1), ('W8City', 1), ('W8Description', 1), ('W8DurationFrom', 1), ('W8DurationTo', 1), ('W8Organization', 1), ('W8State', 1), ('W8Title', 1), ('W9City', 1), ('W9Description', 1), ('W9DurationFrom', 1), ('W9DurationTo', 1), ('W9Organization', 1), ('W9State', 1), ('W9Title', 1), ('id', 1)]\n"
     ]
    }
   ],
   "source": [
    "a = { \n",
    "    \"E8Course\" : \"\",\n",
    "    \"W14Organization\" : \"\",\n",
    "    \"W6Organization\" : \"\",\n",
    "    \"E5State\" : \"\",\n",
    "    \"W1City\" : \" \",\n",
    "    \"W13City\" : \"\",\n",
    "    \"W14City\" : \"\",\n",
    "    \"W8State\" : \"\",\n",
    "    \"W1DurationTo\" : \"2009\",\n",
    "    \"A2Year\" : \"\",\n",
    "    \"A5Title\" : \"\",\n",
    "    \"W1Description\" : \"• Greeted and directed visitors within facility• Operated multi line phone system• Received and handled complaints from clients, the public, and visitors.• Performed basic office functions including answering phone, greeting guest, filing, operating fax and copy machine.• Prepared outgoing mail• Sorted and distributed internal mail• Maintained a safe work environment• Assisted with payroll\",\n",
    "    \"Link5\" : \"\",\n",
    "    \"Link4\" : \"\",\n",
    "    \"Link7\" : \"\",\n",
    "    \"Link6\" : \"\",\n",
    "    \"Link1\" : \"\",\n",
    "    \"Link3\" : \"\",\n",
    "    \"E4State\" : \"\",\n",
    "    \"W14DurationFrom\" : \"\",\n",
    "    \"E5School_University\" : \"\",\n",
    "    \"W11State\" : \"\",\n",
    "    \"W3Description\" : \"-1993• Greeted and directed visitors within facility• Operated multi line phone system• Received and handled complaints from clients, the public, and visitors.• Performed basic office functions including answering phone, greeting guest, filing, operating fax and copy machine.• Prepared outgoing mail• Sorted and distributed internal mail• Maintained a safe work environment• Assisted with payroll\",\n",
    "    \"E1School_University\" : \"Red Bird High School\",\n",
    "    \"E2School_University\" : \"\",\n",
    "    \"W12DurationTo\" : \"\",\n",
    "    \"AdditionalInformation\" : \"PROFESSIONAL EXPERTISEReceptionist, M3 Energy Resources LLC, […]• Greeted and directed visitors within facility• Operated multi line phone system• Received and handled complaints from clients, the public, and visitors.• Performed basic office functions including answering phone, greeting guest, filing, operating fax and copy machine.• Prepared outgoing mail• Sorted and distributed internal mail• Maintained a safe work environment• Assisted with payrollCOMPUTER SKILLS• Basic computer knowledge• Proficient in internet usage\",\n",
    "    \"E4School_University\" : \"\",\n",
    "    \"W4Organization\" : \"\",\n",
    "    \"Link2\" : \"\",\n",
    "    \"A1Title\" : \"\",\n",
    "    \"E4Course\" : \"\",\n",
    "    \"W12State\" : \"\",\n",
    "    \"E2State\" : \"\",\n",
    "    \"W4Description\" : \"\",\n",
    "    \"W13Description\" : \"\",\n",
    "    \"W12City\" : \"\",\n",
    "    \"W15Organization\" : \"\",\n",
    "    \"W15State\" : \"\",\n",
    "    \"W7City\" : \"\",\n",
    "    \"VisaStatus\" : \" \",\n",
    "    \"A2Title\" : \"\",\n",
    "    \"W14DurationTo\" : \"\",\n",
    "    \"W11Organization\" : \"\",\n",
    "    \"E1City\" : \" \",\n",
    "    \"W15Description\" : \"\",\n",
    "    \"E4DurationTo\" : \"\",\n",
    "    \"E3School_University\" : \"\",\n",
    "    \"A5Description\" : \"\",\n",
    "    \"W5Description\" : \"\",\n",
    "    \"E8State\" : \"\",\n",
    "    \"E2City\" : \"\",\n",
    "    \"A3Title\" : \"\",\n",
    "    \"W6Title\" : \"\",\n",
    "    \"W9DurationFrom\" : \"\",\n",
    "    \"E5Course\" : \"\",\n",
    "    \"W4DurationTo\" : \"\",\n",
    "    \"W10State\" : \"\",\n",
    "    \"E3DurationFrom\" : \"\",\n",
    "    \"E6DurationFrom\" : \"\",\n",
    "    \"A2Description\" : \"\",\n",
    "    \"State\" : \"KY\",\n",
    "    \"W12DurationFrom\" : \"\",\n",
    "    \"W9State\" : \"\",\n",
    "    \"W6State\" : \"\",\n",
    "    \"E7City\" : \"\",\n",
    "    \"W9Organization\" : \"\",\n",
    "    \"W14State\" : \"\",\n",
    "    \"E7School_University\" : \"\",\n",
    "    \"W3DurationTo\" : \"1993\",\n",
    "    \"W2DurationFrom\" : \"2000\",\n",
    "    \"A3Description\" : \"\",\n",
    "    \"W8Description\" : \"\",\n",
    "    \"E8DurationTo\" : \"\",\n",
    "    \"A1Year\" : \"\",\n",
    "    \"W1State\" : \" \",\n",
    "    \"W7Organization\" : \"\",\n",
    "    \"W10City\" : \"\",\n",
    "    \"W5State\" : \"\",\n",
    "    \"W9Title\" : \"\",\n",
    "    \"W4DurationFrom\" : \"\",\n",
    "    \"W14Description\" : \"\",\n",
    "    \"W3Organization\" : \"Andalex Resources\",\n",
    "    \"E3City\" : \"\",\n",
    "    \"E6School_University\" : \"\",\n",
    "    \"W6DurationTo\" : \"\",\n",
    "    \"W3DurationFrom\" : \"1993\",\n",
    "    \"W7DurationFrom\" : \"\",\n",
    "    \"A3Year\" : \"\",\n",
    "    \"W5Organization\" : \"\",\n",
    "    \"W1Organization\" : \"Century Coal\",\n",
    "    \"E1DurationFrom\" : \" \",\n",
    "    \"E3State\" : \"\",\n",
    "    \"W3State\" : \" \",\n",
    "    \"E8School_University\" : \"\",\n",
    "    \"W15Title\" : \"\",\n",
    "    \"A4Year\" : \"\",\n",
    "    \"W2Title\" : \"Library Assistant\",\n",
    "    \"E1DurationTo\" : \" \",\n",
    "    \"W3City\" : \" \",\n",
    "    \"W12Description\" : \"\",\n",
    "    \"W9DurationTo\" : \"\",\n",
    "    \"W5DurationFrom\" : \"\",\n",
    "    \"Link8\" : \"\",\n",
    "    \"E8City\" : \"\",\n",
    "    \"W15DurationTo\" : \"\",\n",
    "    \"W6DurationFrom\" : \"\",\n",
    "    \"E7DurationFrom\" : \"\",\n",
    "    \"W10Title\" : \"\",\n",
    "    \"W5DurationTo\" : \"\",\n",
    "    \"W15City\" : \"\",\n",
    "    \"W4Title\" : \"\",\n",
    "    \"E5DurationTo\" : \"\",\n",
    "    \"W7State\" : \"\",\n",
    "    \"W11City\" : \"\",\n",
    "    \"E5DurationFrom\" : \"\",\n",
    "    \"W14Title\" : \"\",\n",
    "    \"W5City\" : \"\",\n",
    "    \"W2State\" : \" \",\n",
    "    \"E2DurationTo\" : \"\",\n",
    "    \"E7DurationTo\" : \"\",\n",
    "    \"W7DurationTo\" : \"\",\n",
    "    \"W10DurationTo\" : \"\",\n",
    "    \"W6City\" : \"\",\n",
    "    \"W2Description\" : \"• Checked books in and out of library• Assisted the librarian with class activities• Conducted library tours• Maintained library information on bulletin boards• Organized materials on shelves and tables• Monitored computer lab• Tutored students when needed\",\n",
    "    \"A4Title\" : \"\",\n",
    "    \"E3DurationTo\" : \"\",\n",
    "    \"A5Year\" : \"\",\n",
    "    \"W7Description\" : \"\",\n",
    "    \"W13Organization\" : \"\",\n",
    "    \"W12Organization\" : \"\",\n",
    "    \"E6DurationTo\" : \"\",\n",
    "    \"E6State\" : \"\",\n",
    "    \"W9Description\" : \"\",\n",
    "    \"W13DurationFrom\" : \"\",\n",
    "    \"CoverLetterObjective\" : \"Receptionist\",\n",
    "    \"W6Description\" : \"\",\n",
    "    \"W10Organization\" : \"\",\n",
    "    \"W10DurationFrom\" : \"\",\n",
    "    \"W8City\" : \"\",\n",
    "    \"W7Title\" : \"\",\n",
    "    \"W2DurationTo\" : \"2003\",\n",
    "    \"W1DurationFrom\" : \"2007\",\n",
    "    \"E4DurationFrom\" : \"\",\n",
    "    \"A4Description\" : \"\",\n",
    "    \"City\" : \"Roark\",\n",
    "    \"E1Course\" : \"Diploma\",\n",
    "    \"W11Description\" : \"\",\n",
    "    \"CoverLetterParagraphs\" : \" \",\n",
    "    \"W9City\" : \"\",\n",
    "    \"E1State\" : \" \",\n",
    "    \"E3Course\" : \"\",\n",
    "    \"A1Description\" : \"\",\n",
    "    \"id\" : \"119689\",\n",
    "    \"W2Organization\" : \"Red Bird Mission Inc\",\n",
    "    \"SourceURL\" : \"https://www.indeed.com/r/Amy Asher/aec2ffcbdacf70f6\",\n",
    "    \"E4City\" : \"\",\n",
    "    \"W11DurationTo\" : \"\",\n",
    "    \"E6City\" : \"\",\n",
    "    \"W12Title\" : \"\",\n",
    "    \"W13State\" : \"\",\n",
    "    \"ContactName\" : \"Amy Asher\",\n",
    "    \"E7Course\" : \"\",\n",
    "    \"W8DurationFrom\" : \"\",\n",
    "    \"E6Course\" : \"\",\n",
    "    \"W15DurationFrom\" : \"\",\n",
    "    \"W13DurationTo\" : \"\",\n",
    "    \"W4City\" : \"\",\n",
    "    \"E5City\" : \"\",\n",
    "    \"W11Title\" : \"\",\n",
    "    \"W2City\" : \" \",\n",
    "    \"W5Title\" : \"\",\n",
    "    \"W8Organization\" : \"\",\n",
    "    \"E7State\" : \"\",\n",
    "    \"W3Title\" : \"Receptionist\",\n",
    "    \"E2Course\" : \"\",\n",
    "    \"W13Title\" : \"\",\n",
    "    \"W1Title\" : \"Receptionist\",\n",
    "    \"W11DurationFrom\" : \"\",\n",
    "    \"W4State\" : \"\",\n",
    "    \"E8DurationFrom\" : \"\",\n",
    "    \"W8Title\" : \"\",\n",
    "    \"W10Description\" : \"\",\n",
    "    \"W8DurationTo\" : \"\",\n",
    "    \"Skill\" : \" \",\n",
    "    \"E2DurationFrom\" : \"\"}\n",
    "for i in a:\n",
    "    a[i] = 1\n",
    "print sorted(a.items(), key= lambda a: a)"
   ]
  }
 ],
 "metadata": {
  "kernelspec": {
   "display_name": "Python 2",
   "language": "python",
   "name": "python2"
  },
  "language_info": {
   "codemirror_mode": {
    "name": "ipython",
    "version": 2
   },
   "file_extension": ".py",
   "mimetype": "text/x-python",
   "name": "python",
   "nbconvert_exporter": "python",
   "pygments_lexer": "ipython2",
   "version": "2.7.12"
  }
 },
 "nbformat": 4,
 "nbformat_minor": 2
}
