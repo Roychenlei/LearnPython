{
 "cells": [
  {
   "cell_type": "code",
   "execution_count": 26,
   "metadata": {},
   "outputs": [
    {
     "name": "stdout",
     "output_type": "stream",
     "text": [
      "found word:cat\n"
     ]
    }
   ],
   "source": [
    "import re\n",
    "str = 'an example word:cat!!word:cbt'\n",
    "match = re.search(r'word:\\w\\w\\w', str)\n",
    "if match:\n",
    "    print 'found', match.group()\n",
    "else:\n",
    "    print'did not find'"
   ]
  },
  {
   "cell_type": "code",
   "execution_count": 55,
   "metadata": {},
   "outputs": [
    {
     "name": "stdout",
     "output_type": "stream",
     "text": [
      "alice@google.com\n",
      "alice\n",
      "google.com\n",
      "alice@google.com\n",
      "bob@abc.com\n"
     ]
    }
   ],
   "source": [
    " str = 'purple alice@google.com, blah monkey bob@abc.com blah dishwasher'\n",
    "match = re.search(r'([\\w.-]+)@([\\w.-]+)',str)\n",
    "if match:\n",
    "    print match.group()\n",
    "    print match.group(1)\n",
    "    print match.group(2)\n",
    "\n",
    "emails = re.findall(r'[\\w\\.-]+@[\\w\\.-]+', str)\n",
    "for emil in emails:\n",
    "    print emil"
   ]
  },
  {
   "cell_type": "code",
   "execution_count": null,
   "metadata": {},
   "outputs": [],
   "source": []
  },
  {
   "cell_type": "code",
   "execution_count": null,
   "metadata": {},
   "outputs": [],
   "source": []
  }
 ],
 "metadata": {
  "kernelspec": {
   "display_name": "Python 2",
   "language": "python",
   "name": "python2"
  },
  "language_info": {
   "codemirror_mode": {
    "name": "ipython",
    "version": 2
   },
   "file_extension": ".py",
   "mimetype": "text/x-python",
   "name": "python",
   "nbconvert_exporter": "python",
   "pygments_lexer": "ipython2",
   "version": "2.7.12"
  }
 },
 "nbformat": 4,
 "nbformat_minor": 2
}
